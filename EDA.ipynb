{
 "cells": [
  {
   "cell_type": "markdown",
   "metadata": {},
   "source": [
    "# Exploratory Data Analysis(EDA) with IEEE-CIS Fraud Detection Data Set\n",
    "Exploratory Data Analysis refers to the critical process of performing initial investigations on data so as to discover patterns,to spot anomalies,to test hypothesis and to check assumptions with the help of summary statistics and graphical representations.\n",
    "\n",
    "* To take a closer look at the data take help of `.head()` function of pandas library which returns first five observations of the data set.Similarly `.tail()` returns last five observations of the data set.\n",
    "* To found out the total number of rows and columns in the data set using `.shape`.\n",
    "* To see label of each columns in the data set using `.columns.values`\n",
    "* It is also a good practice to know the columns and their corresponding data types,along with finding whether they contain null values or not with `.info()`\n",
    "* The `.describe()` function in pandas is very handy in getting various summary statistics.This function returns the count, mean, standard deviation, minimum and maximum values and the quantiles of the data.\n",
    "* Few key insights just by looking at dependent variable are as follows:\n",
    "    * `.unique()`\n",
    "    * `.value_counts()`\n",
    "* To chech missing values in the data set's columns using `.isnull().sum()`\n",
    "* To use `linear regression` for modelling,its necessary to remove correlated variables to improve your model.One can find correlations using pandas `.corr()` function and can visualize the correlation matrix using a heatmap in seaborn.\n",
    "    * Dark shades represents positive correlation while lighter shades represents negative correlation.\n",
    "    * If you set annot=True, you’ll get values by which features are correlated to each other in grid-cells.\n",
    "    * It’s a good practice to remove correlated variables during feature selection.\n",
    "* To check `Outliers`: `A box plot` (or box-and-whisker plot) shows the distribution of quantitative data in a way that facilitates comparisons between variables.The box shows the quartiles of the dataset while the whiskers extend to show the rest of the distribution.\n",
    "* To check `the linearity of the variables` it is a good practice to `plot distribution graph` and look for skewness of features. Kernel density estimate (kde) is a quite useful tool for plotting the shape of a distribution."
   ]
  },
  {
   "cell_type": "markdown",
   "metadata": {},
   "source": [
    "## Data Description:\n",
    "### Transaction Table \n",
    "    * TransactionDT: timedelta from a given reference datetime (not an actual timestamp)\n",
    "    * TransactionAMT: transaction payment amount in USD\n",
    "    * ProductCD: product code, the product for each transaction\n",
    "    * card1 - card6: payment card information, such as card type, card category, issue bank, country, etc.\n",
    "    * addr: address\n",
    "    * dist: distance\n",
    "    * P_ and (R__) emaildomain: purchaser and recipient email domain\n",
    "    * C1-C14: counting, such as how many addresses are found to be associated with the payment card, etc. The actual meaning is masked.\n",
    "    * D1-D15: timedelta, such as days between previous transaction, etc.\n",
    "    * M1-M9: match, such as names on card and address, etc.\n",
    "    * Vxxx: Vesta engineered rich features, including ranking, counting, and other entity relations.\n",
    "### Categorical Features:\n",
    "    * ProductCD\n",
    "    * card1 - card6\n",
    "    * addr1, addr2\n",
    "    * P_emaildomain\n",
    "    * R_emaildomain\n",
    "    * M1 - M9\n",
    "\n",
    "### Identity Table\n",
    "    * Variables in this table are identity information – network connection information (IP, ISP, Proxy, etc) and digital signature (UA/browser/os/version, etc) associated with transactions.\n",
    "    * They're collected by Vesta’s fraud protection system and digital security partners.\n",
    "    * (The field names are masked and pairwise dictionary will not be provided for privacy protection and contract agreement)\n",
    "\n",
    "    * “id01 to id11 are numerical features for identity, which is collected by Vesta and security partners such as device rating, ip_domain rating, proxy rating, etc. Also it recorded behavioral fingerprint like account login times/failed to login times, how long an account stayed on the page, etc. All of these are not able to elaborate due to security partner T&C. I hope you could get basic meaning of these features, and by mentioning them as numerical/categorical, you won't deal with them inappropriately.”\n",
    "    \n",
    "### Categorical Features:\n",
    "    * DeviceType\n",
    "    * DeviceInfo\n",
    "    * id_12 - id_38   "
   ]
  },
  {
   "cell_type": "code",
   "execution_count": 1,
   "metadata": {},
   "outputs": [],
   "source": [
    "%load_ext lab_black"
   ]
  },
  {
   "cell_type": "code",
   "execution_count": 2,
   "metadata": {},
   "outputs": [],
   "source": [
    "# This library is to work with Data Frames\n",
    "import pandas as pd\n",
    "\n",
    "# This library is to work with vectors\n",
    "import numpy as np\n",
    "\n",
    "# This library is to visualise statistical graphs\n",
    "import seaborn as sns\n",
    "\n",
    "# This library is to visualise graphs\n",
    "import matplotlib.pyplot as plt\n",
    "\n",
    "# To set some ploting parameters\n",
    "from matplotlib import rcParams\n",
    "\n",
    "# To supplies classes for manipulating dates and times\n",
    "import datetime\n",
    "\n",
    "# Library to work with Regular Expressions\n",
    "import re\n",
    "\n",
    "# To ignore filterwarnings\n",
    "import warnings\n",
    "\n",
    "# This library is to create dispays\n",
    "from IPython.display import Image\n",
    "\n",
    "# Calling reporting functions from util_reporting\n",
    "from util_reporting import (\n",
    "    swarmplot_viz,\n",
    "    crosstab_viz,\n",
    "    factor_plot_viz,\n",
    "    relationship_viz,\n",
    "    df_first_look,\n",
    "    df_descriptive_statistics,\n",
    "    countplot_viz,\n",
    "    df_pivot_aggregated_statistics,\n",
    "    multiple_plot_viz,\n",
    "    boxplot_viz,\n",
    "    histogram_viz,\n",
    "    distplot_viz,\n",
    "    correlation_chart,\n",
    "    distplot_log_viz,\n",
    ")\n",
    "\n",
    "# Calling reporting functions from util_data_cleaning\n",
    "from util_data_cleaning import (\n",
    "    extract_first_string,\n",
    "    df_numeric_column_filler_with_aggregated_data,\n",
    "    missing_data_finder,\n",
    ")\n",
    "\n",
    "# Calling feature engineering functions from util_feature_engineering\n",
    "from util_feature_engineering import (\n",
    "    calculating_zscore,\n",
    "    creating_date_columns,\n",
    ")\n",
    "\n",
    "\n",
    "%matplotlib inline\n",
    "warnings.filterwarnings(\"ignore\")\n",
    "%config Completer.use_jedi = False\n",
    "\n",
    "# Seting a universal figure size<\n",
    "rcParams[\"figure.figsize\"] = 8, 6"
   ]
  },
  {
   "cell_type": "code",
   "execution_count": 3,
   "metadata": {},
   "outputs": [],
   "source": [
    "# Transaction CSVs\n",
    "train_transaction = pd.read_csv(\"train_transaction.csv\")\n",
    "test_transaction = pd.read_csv(\"test_transaction.csv\")\n",
    "# Identity CSVs - These will be merged onto the transactions to create additional features\n",
    "train_identity = pd.read_csv(\"train_identity.csv\")\n",
    "test_identity = pd.read_csv(\"test_identity.csv\")\n",
    "# Sample Submissions\n",
    "sample_submission = pd.read_csv(\"sample_submission.csv\")"
   ]
  },
  {
   "cell_type": "markdown",
   "metadata": {},
   "source": [
    "### The First Looking to Data Set:\n",
    "* I called `df_first_look` from `util_reporting.py`. \n",
    "* This function returns;\n",
    "    * First 5 rows of dataframe\n",
    "    * Last 5 rows of dataframe\n",
    "    * Row count of dataframe\n",
    "    * Column count of dataframe\n",
    "    * List of columns in the dataframe\n",
    "    * Looking NaN values and datatypes of columns in the dataframe"
   ]
  },
  {
   "cell_type": "code",
   "execution_count": 4,
   "metadata": {
    "collapsed": true,
    "jupyter": {
     "outputs_hidden": true
    }
   },
   "outputs": [
    {
     "name": "stdout",
     "output_type": "stream",
     "text": [
      "First 5 rows of dataframe:\n",
      "--------------------------\n",
      "    TransactionID  isFraud  TransactionDT  TransactionAmt ProductCD  card1  \\\n",
      "0        2987000        0          86400            68.5         W  13926   \n",
      "1        2987001        0          86401            29.0         W   2755   \n",
      "2        2987002        0          86469            59.0         W   4663   \n",
      "3        2987003        0          86499            50.0         W  18132   \n",
      "4        2987004        0          86506            50.0         H   4497   \n",
      "\n",
      "   card2  card3       card4  card5  ... V330  V331  V332  V333  V334 V335  \\\n",
      "0    NaN  150.0    discover  142.0  ...  NaN   NaN   NaN   NaN   NaN  NaN   \n",
      "1  404.0  150.0  mastercard  102.0  ...  NaN   NaN   NaN   NaN   NaN  NaN   \n",
      "2  490.0  150.0        visa  166.0  ...  NaN   NaN   NaN   NaN   NaN  NaN   \n",
      "3  567.0  150.0  mastercard  117.0  ...  NaN   NaN   NaN   NaN   NaN  NaN   \n",
      "4  514.0  150.0  mastercard  102.0  ...  0.0   0.0   0.0   0.0   0.0  0.0   \n",
      "\n",
      "  V336  V337  V338  V339  \n",
      "0  NaN   NaN   NaN   NaN  \n",
      "1  NaN   NaN   NaN   NaN  \n",
      "2  NaN   NaN   NaN   NaN  \n",
      "3  NaN   NaN   NaN   NaN  \n",
      "4  0.0   0.0   0.0   0.0  \n",
      "\n",
      "[5 rows x 394 columns]\n",
      "\n",
      "Last 5 rows of dataframe:\n",
      "--------------------------\n",
      "         TransactionID  isFraud  TransactionDT  TransactionAmt ProductCD  \\\n",
      "590535        3577535        0       15811047           49.00         W   \n",
      "590536        3577536        0       15811049           39.50         W   \n",
      "590537        3577537        0       15811079           30.95         W   \n",
      "590538        3577538        0       15811088          117.00         W   \n",
      "590539        3577539        0       15811131          279.95         W   \n",
      "\n",
      "        card1  card2  card3       card4  card5  ... V330  V331  V332  V333  \\\n",
      "590535   6550    NaN  150.0        visa  226.0  ...  NaN   NaN   NaN   NaN   \n",
      "590536  10444  225.0  150.0  mastercard  224.0  ...  NaN   NaN   NaN   NaN   \n",
      "590537  12037  595.0  150.0  mastercard  224.0  ...  NaN   NaN   NaN   NaN   \n",
      "590538   7826  481.0  150.0  mastercard  224.0  ...  NaN   NaN   NaN   NaN   \n",
      "590539  15066  170.0  150.0  mastercard  102.0  ...  NaN   NaN   NaN   NaN   \n",
      "\n",
      "        V334 V335 V336  V337  V338  V339  \n",
      "590535   NaN  NaN  NaN   NaN   NaN   NaN  \n",
      "590536   NaN  NaN  NaN   NaN   NaN   NaN  \n",
      "590537   NaN  NaN  NaN   NaN   NaN   NaN  \n",
      "590538   NaN  NaN  NaN   NaN   NaN   NaN  \n",
      "590539   NaN  NaN  NaN   NaN   NaN   NaN  \n",
      "\n",
      "[5 rows x 394 columns]\n",
      "\n",
      "Row count of dataframe:\n",
      "-----------------------\n",
      " 590540 \n",
      "Column count of dataframe:\n",
      "--------------------------\n",
      " 394\n",
      "\n",
      "List of columns in the dataframe:\n",
      "---------------------------------\n",
      " ['TransactionID' 'isFraud' 'TransactionDT' 'TransactionAmt' 'ProductCD'\n",
      " 'card1' 'card2' 'card3' 'card4' 'card5' 'card6' 'addr1' 'addr2' 'dist1'\n",
      " 'dist2' 'P_emaildomain' 'R_emaildomain' 'C1' 'C2' 'C3' 'C4' 'C5' 'C6'\n",
      " 'C7' 'C8' 'C9' 'C10' 'C11' 'C12' 'C13' 'C14' 'D1' 'D2' 'D3' 'D4' 'D5'\n",
      " 'D6' 'D7' 'D8' 'D9' 'D10' 'D11' 'D12' 'D13' 'D14' 'D15' 'M1' 'M2' 'M3'\n",
      " 'M4' 'M5' 'M6' 'M7' 'M8' 'M9' 'V1' 'V2' 'V3' 'V4' 'V5' 'V6' 'V7' 'V8'\n",
      " 'V9' 'V10' 'V11' 'V12' 'V13' 'V14' 'V15' 'V16' 'V17' 'V18' 'V19' 'V20'\n",
      " 'V21' 'V22' 'V23' 'V24' 'V25' 'V26' 'V27' 'V28' 'V29' 'V30' 'V31' 'V32'\n",
      " 'V33' 'V34' 'V35' 'V36' 'V37' 'V38' 'V39' 'V40' 'V41' 'V42' 'V43' 'V44'\n",
      " 'V45' 'V46' 'V47' 'V48' 'V49' 'V50' 'V51' 'V52' 'V53' 'V54' 'V55' 'V56'\n",
      " 'V57' 'V58' 'V59' 'V60' 'V61' 'V62' 'V63' 'V64' 'V65' 'V66' 'V67' 'V68'\n",
      " 'V69' 'V70' 'V71' 'V72' 'V73' 'V74' 'V75' 'V76' 'V77' 'V78' 'V79' 'V80'\n",
      " 'V81' 'V82' 'V83' 'V84' 'V85' 'V86' 'V87' 'V88' 'V89' 'V90' 'V91' 'V92'\n",
      " 'V93' 'V94' 'V95' 'V96' 'V97' 'V98' 'V99' 'V100' 'V101' 'V102' 'V103'\n",
      " 'V104' 'V105' 'V106' 'V107' 'V108' 'V109' 'V110' 'V111' 'V112' 'V113'\n",
      " 'V114' 'V115' 'V116' 'V117' 'V118' 'V119' 'V120' 'V121' 'V122' 'V123'\n",
      " 'V124' 'V125' 'V126' 'V127' 'V128' 'V129' 'V130' 'V131' 'V132' 'V133'\n",
      " 'V134' 'V135' 'V136' 'V137' 'V138' 'V139' 'V140' 'V141' 'V142' 'V143'\n",
      " 'V144' 'V145' 'V146' 'V147' 'V148' 'V149' 'V150' 'V151' 'V152' 'V153'\n",
      " 'V154' 'V155' 'V156' 'V157' 'V158' 'V159' 'V160' 'V161' 'V162' 'V163'\n",
      " 'V164' 'V165' 'V166' 'V167' 'V168' 'V169' 'V170' 'V171' 'V172' 'V173'\n",
      " 'V174' 'V175' 'V176' 'V177' 'V178' 'V179' 'V180' 'V181' 'V182' 'V183'\n",
      " 'V184' 'V185' 'V186' 'V187' 'V188' 'V189' 'V190' 'V191' 'V192' 'V193'\n",
      " 'V194' 'V195' 'V196' 'V197' 'V198' 'V199' 'V200' 'V201' 'V202' 'V203'\n",
      " 'V204' 'V205' 'V206' 'V207' 'V208' 'V209' 'V210' 'V211' 'V212' 'V213'\n",
      " 'V214' 'V215' 'V216' 'V217' 'V218' 'V219' 'V220' 'V221' 'V222' 'V223'\n",
      " 'V224' 'V225' 'V226' 'V227' 'V228' 'V229' 'V230' 'V231' 'V232' 'V233'\n",
      " 'V234' 'V235' 'V236' 'V237' 'V238' 'V239' 'V240' 'V241' 'V242' 'V243'\n",
      " 'V244' 'V245' 'V246' 'V247' 'V248' 'V249' 'V250' 'V251' 'V252' 'V253'\n",
      " 'V254' 'V255' 'V256' 'V257' 'V258' 'V259' 'V260' 'V261' 'V262' 'V263'\n",
      " 'V264' 'V265' 'V266' 'V267' 'V268' 'V269' 'V270' 'V271' 'V272' 'V273'\n",
      " 'V274' 'V275' 'V276' 'V277' 'V278' 'V279' 'V280' 'V281' 'V282' 'V283'\n",
      " 'V284' 'V285' 'V286' 'V287' 'V288' 'V289' 'V290' 'V291' 'V292' 'V293'\n",
      " 'V294' 'V295' 'V296' 'V297' 'V298' 'V299' 'V300' 'V301' 'V302' 'V303'\n",
      " 'V304' 'V305' 'V306' 'V307' 'V308' 'V309' 'V310' 'V311' 'V312' 'V313'\n",
      " 'V314' 'V315' 'V316' 'V317' 'V318' 'V319' 'V320' 'V321' 'V322' 'V323'\n",
      " 'V324' 'V325' 'V326' 'V327' 'V328' 'V329' 'V330' 'V331' 'V332' 'V333'\n",
      " 'V334' 'V335' 'V336' 'V337' 'V338' 'V339']\n",
      "\n",
      "Looking NaN values and datatypes of columns in the dataframe:\n",
      "--------------------------------------------\n",
      "\n",
      "<class 'pandas.core.frame.DataFrame'>\n",
      "RangeIndex: 590540 entries, 0 to 590539\n",
      "Columns: 394 entries, TransactionID to V339\n",
      "dtypes: float64(376), int64(4), object(14)\n",
      "memory usage: 1.7+ GB\n",
      "None\n",
      "\n"
     ]
    }
   ],
   "source": [
    "df_first_look(train_transaction)"
   ]
  },
  {
   "cell_type": "code",
   "execution_count": 5,
   "metadata": {
    "collapsed": true,
    "jupyter": {
     "outputs_hidden": true
    }
   },
   "outputs": [
    {
     "name": "stdout",
     "output_type": "stream",
     "text": [
      "First 5 rows of dataframe:\n",
      "--------------------------\n",
      "    TransactionID  id_01     id_02  id_03  id_04  id_05  id_06  id_07  id_08  \\\n",
      "0        2987004    0.0   70787.0    NaN    NaN    NaN    NaN    NaN    NaN   \n",
      "1        2987008   -5.0   98945.0    NaN    NaN    0.0   -5.0    NaN    NaN   \n",
      "2        2987010   -5.0  191631.0    0.0    0.0    0.0    0.0    NaN    NaN   \n",
      "3        2987011   -5.0  221832.0    NaN    NaN    0.0   -6.0    NaN    NaN   \n",
      "4        2987016    0.0    7460.0    0.0    0.0    1.0    0.0    NaN    NaN   \n",
      "\n",
      "   id_09  ...                id_31  id_32      id_33           id_34  id_35  \\\n",
      "0    NaN  ...  samsung browser 6.2   32.0  2220x1080  match_status:2      T   \n",
      "1    NaN  ...   mobile safari 11.0   32.0   1334x750  match_status:1      T   \n",
      "2    0.0  ...          chrome 62.0    NaN        NaN             NaN      F   \n",
      "3    NaN  ...          chrome 62.0    NaN        NaN             NaN      F   \n",
      "4    0.0  ...          chrome 62.0   24.0   1280x800  match_status:2      T   \n",
      "\n",
      "  id_36 id_37  id_38  DeviceType                     DeviceInfo  \n",
      "0     F     T      T      mobile  SAMSUNG SM-G892A Build/NRD90M  \n",
      "1     F     F      T      mobile                     iOS Device  \n",
      "2     F     T      T     desktop                        Windows  \n",
      "3     F     T      T     desktop                            NaN  \n",
      "4     F     T      T     desktop                          MacOS  \n",
      "\n",
      "[5 rows x 41 columns]\n",
      "\n",
      "Last 5 rows of dataframe:\n",
      "--------------------------\n",
      "         TransactionID  id_01     id_02  id_03  id_04  id_05  id_06  id_07  \\\n",
      "144228        3577521  -15.0  145955.0    0.0    0.0    0.0    0.0    NaN   \n",
      "144229        3577526   -5.0  172059.0    NaN    NaN    1.0   -5.0    NaN   \n",
      "144230        3577529  -20.0  632381.0    NaN    NaN   -1.0  -36.0    NaN   \n",
      "144231        3577531   -5.0   55528.0    0.0    0.0    0.0   -7.0    NaN   \n",
      "144232        3577534  -45.0  339406.0    NaN    NaN  -10.0 -100.0    NaN   \n",
      "\n",
      "        id_08  id_09  ...                    id_31  id_32      id_33  \\\n",
      "144228    NaN    0.0  ...  chrome 66.0 for android    NaN        NaN   \n",
      "144229    NaN    NaN  ...  chrome 55.0 for android   32.0    855x480   \n",
      "144230    NaN    NaN  ...  chrome 65.0 for android    NaN        NaN   \n",
      "144231    NaN    0.0  ...              chrome 66.0   24.0  2560x1600   \n",
      "144232    NaN    NaN  ...  chrome 66.0 for android    NaN        NaN   \n",
      "\n",
      "                 id_34  id_35 id_36 id_37  id_38  DeviceType  \\\n",
      "144228             NaN      F     F     T      F      mobile   \n",
      "144229  match_status:2      T     F     T      F      mobile   \n",
      "144230             NaN      F     F     T      F      mobile   \n",
      "144231  match_status:2      T     F     T      F     desktop   \n",
      "144232             NaN      F     F     T      F      mobile   \n",
      "\n",
      "                                DeviceInfo  \n",
      "144228             F3111 Build/33.3.A.1.97  \n",
      "144229                 A574BL Build/NMF26F  \n",
      "144230  Moto E (4) Plus Build/NMA26.42-152  \n",
      "144231                               MacOS  \n",
      "144232         RNE-L03 Build/HUAWEIRNE-L03  \n",
      "\n",
      "[5 rows x 41 columns]\n",
      "\n",
      "Row count of dataframe:\n",
      "-----------------------\n",
      " 144233 \n",
      "Column count of dataframe:\n",
      "--------------------------\n",
      " 41\n",
      "\n",
      "List of columns in the dataframe:\n",
      "---------------------------------\n",
      " ['TransactionID' 'id_01' 'id_02' 'id_03' 'id_04' 'id_05' 'id_06' 'id_07'\n",
      " 'id_08' 'id_09' 'id_10' 'id_11' 'id_12' 'id_13' 'id_14' 'id_15' 'id_16'\n",
      " 'id_17' 'id_18' 'id_19' 'id_20' 'id_21' 'id_22' 'id_23' 'id_24' 'id_25'\n",
      " 'id_26' 'id_27' 'id_28' 'id_29' 'id_30' 'id_31' 'id_32' 'id_33' 'id_34'\n",
      " 'id_35' 'id_36' 'id_37' 'id_38' 'DeviceType' 'DeviceInfo']\n",
      "\n",
      "Looking NaN values and datatypes of columns in the dataframe:\n",
      "--------------------------------------------\n",
      "\n",
      "<class 'pandas.core.frame.DataFrame'>\n",
      "RangeIndex: 144233 entries, 0 to 144232\n",
      "Data columns (total 41 columns):\n",
      " #   Column         Non-Null Count   Dtype  \n",
      "---  ------         --------------   -----  \n",
      " 0   TransactionID  144233 non-null  int64  \n",
      " 1   id_01          144233 non-null  float64\n",
      " 2   id_02          140872 non-null  float64\n",
      " 3   id_03          66324 non-null   float64\n",
      " 4   id_04          66324 non-null   float64\n",
      " 5   id_05          136865 non-null  float64\n",
      " 6   id_06          136865 non-null  float64\n",
      " 7   id_07          5155 non-null    float64\n",
      " 8   id_08          5155 non-null    float64\n",
      " 9   id_09          74926 non-null   float64\n",
      " 10  id_10          74926 non-null   float64\n",
      " 11  id_11          140978 non-null  float64\n",
      " 12  id_12          144233 non-null  object \n",
      " 13  id_13          127320 non-null  float64\n",
      " 14  id_14          80044 non-null   float64\n",
      " 15  id_15          140985 non-null  object \n",
      " 16  id_16          129340 non-null  object \n",
      " 17  id_17          139369 non-null  float64\n",
      " 18  id_18          45113 non-null   float64\n",
      " 19  id_19          139318 non-null  float64\n",
      " 20  id_20          139261 non-null  float64\n",
      " 21  id_21          5159 non-null    float64\n",
      " 22  id_22          5169 non-null    float64\n",
      " 23  id_23          5169 non-null    object \n",
      " 24  id_24          4747 non-null    float64\n",
      " 25  id_25          5132 non-null    float64\n",
      " 26  id_26          5163 non-null    float64\n",
      " 27  id_27          5169 non-null    object \n",
      " 28  id_28          140978 non-null  object \n",
      " 29  id_29          140978 non-null  object \n",
      " 30  id_30          77565 non-null   object \n",
      " 31  id_31          140282 non-null  object \n",
      " 32  id_32          77586 non-null   float64\n",
      " 33  id_33          73289 non-null   object \n",
      " 34  id_34          77805 non-null   object \n",
      " 35  id_35          140985 non-null  object \n",
      " 36  id_36          140985 non-null  object \n",
      " 37  id_37          140985 non-null  object \n",
      " 38  id_38          140985 non-null  object \n",
      " 39  DeviceType     140810 non-null  object \n",
      " 40  DeviceInfo     118666 non-null  object \n",
      "dtypes: float64(23), int64(1), object(17)\n",
      "memory usage: 45.1+ MB\n",
      "None\n",
      "\n"
     ]
    }
   ],
   "source": [
    "df_first_look(train_identity)"
   ]
  },
  {
   "cell_type": "code",
   "execution_count": 6,
   "metadata": {
    "collapsed": true,
    "jupyter": {
     "outputs_hidden": true
    }
   },
   "outputs": [
    {
     "name": "stdout",
     "output_type": "stream",
     "text": [
      "First 5 rows of dataframe:\n",
      "--------------------------\n",
      "    TransactionID  TransactionDT  TransactionAmt ProductCD  card1  card2  \\\n",
      "0        3663549       18403224           31.95         W  10409  111.0   \n",
      "1        3663550       18403263           49.00         W   4272  111.0   \n",
      "2        3663551       18403310          171.00         W   4476  574.0   \n",
      "3        3663552       18403310          284.95         W  10989  360.0   \n",
      "4        3663553       18403317           67.95         W  18018  452.0   \n",
      "\n",
      "   card3       card4  card5  card6  ...  V330  V331  V332  V333 V334 V335  \\\n",
      "0  150.0        visa  226.0  debit  ...   NaN   NaN   NaN   NaN  NaN  NaN   \n",
      "1  150.0        visa  226.0  debit  ...   NaN   NaN   NaN   NaN  NaN  NaN   \n",
      "2  150.0        visa  226.0  debit  ...   NaN   NaN   NaN   NaN  NaN  NaN   \n",
      "3  150.0        visa  166.0  debit  ...   NaN   NaN   NaN   NaN  NaN  NaN   \n",
      "4  150.0  mastercard  117.0  debit  ...   NaN   NaN   NaN   NaN  NaN  NaN   \n",
      "\n",
      "   V336  V337  V338  V339  \n",
      "0   NaN   NaN   NaN   NaN  \n",
      "1   NaN   NaN   NaN   NaN  \n",
      "2   NaN   NaN   NaN   NaN  \n",
      "3   NaN   NaN   NaN   NaN  \n",
      "4   NaN   NaN   NaN   NaN  \n",
      "\n",
      "[5 rows x 393 columns]\n",
      "\n",
      "Last 5 rows of dataframe:\n",
      "--------------------------\n",
      "         TransactionID  TransactionDT  TransactionAmt ProductCD  card1  card2  \\\n",
      "506686        4170235       34214279          94.679         C  13832  375.0   \n",
      "506687        4170236       34214287          12.173         C   3154  408.0   \n",
      "506688        4170237       34214326          49.000         W  16661  490.0   \n",
      "506689        4170238       34214337         202.000         W  16621  516.0   \n",
      "506690        4170239       34214345          24.346         C   5713  168.0   \n",
      "\n",
      "        card3       card4  card5   card6  ...  V330  V331  V332  V333 V334  \\\n",
      "506686  185.0  mastercard  224.0   debit  ...   NaN   NaN   NaN   NaN  NaN   \n",
      "506687  185.0  mastercard  224.0   debit  ...   NaN   NaN   NaN   NaN  NaN   \n",
      "506688  150.0        visa  226.0   debit  ...   NaN   NaN   NaN   NaN  NaN   \n",
      "506689  150.0  mastercard  224.0   debit  ...   NaN   NaN   NaN   NaN  NaN   \n",
      "506690  144.0        visa  147.0  credit  ...   NaN   NaN   NaN   NaN  NaN   \n",
      "\n",
      "       V335  V336  V337  V338  V339  \n",
      "506686  NaN   NaN   NaN   NaN   NaN  \n",
      "506687  NaN   NaN   NaN   NaN   NaN  \n",
      "506688  NaN   NaN   NaN   NaN   NaN  \n",
      "506689  NaN   NaN   NaN   NaN   NaN  \n",
      "506690  NaN   NaN   NaN   NaN   NaN  \n",
      "\n",
      "[5 rows x 393 columns]\n",
      "\n",
      "Row count of dataframe:\n",
      "-----------------------\n",
      " 506691 \n",
      "Column count of dataframe:\n",
      "--------------------------\n",
      " 393\n",
      "\n",
      "List of columns in the dataframe:\n",
      "---------------------------------\n",
      " ['TransactionID' 'TransactionDT' 'TransactionAmt' 'ProductCD' 'card1'\n",
      " 'card2' 'card3' 'card4' 'card5' 'card6' 'addr1' 'addr2' 'dist1' 'dist2'\n",
      " 'P_emaildomain' 'R_emaildomain' 'C1' 'C2' 'C3' 'C4' 'C5' 'C6' 'C7' 'C8'\n",
      " 'C9' 'C10' 'C11' 'C12' 'C13' 'C14' 'D1' 'D2' 'D3' 'D4' 'D5' 'D6' 'D7'\n",
      " 'D8' 'D9' 'D10' 'D11' 'D12' 'D13' 'D14' 'D15' 'M1' 'M2' 'M3' 'M4' 'M5'\n",
      " 'M6' 'M7' 'M8' 'M9' 'V1' 'V2' 'V3' 'V4' 'V5' 'V6' 'V7' 'V8' 'V9' 'V10'\n",
      " 'V11' 'V12' 'V13' 'V14' 'V15' 'V16' 'V17' 'V18' 'V19' 'V20' 'V21' 'V22'\n",
      " 'V23' 'V24' 'V25' 'V26' 'V27' 'V28' 'V29' 'V30' 'V31' 'V32' 'V33' 'V34'\n",
      " 'V35' 'V36' 'V37' 'V38' 'V39' 'V40' 'V41' 'V42' 'V43' 'V44' 'V45' 'V46'\n",
      " 'V47' 'V48' 'V49' 'V50' 'V51' 'V52' 'V53' 'V54' 'V55' 'V56' 'V57' 'V58'\n",
      " 'V59' 'V60' 'V61' 'V62' 'V63' 'V64' 'V65' 'V66' 'V67' 'V68' 'V69' 'V70'\n",
      " 'V71' 'V72' 'V73' 'V74' 'V75' 'V76' 'V77' 'V78' 'V79' 'V80' 'V81' 'V82'\n",
      " 'V83' 'V84' 'V85' 'V86' 'V87' 'V88' 'V89' 'V90' 'V91' 'V92' 'V93' 'V94'\n",
      " 'V95' 'V96' 'V97' 'V98' 'V99' 'V100' 'V101' 'V102' 'V103' 'V104' 'V105'\n",
      " 'V106' 'V107' 'V108' 'V109' 'V110' 'V111' 'V112' 'V113' 'V114' 'V115'\n",
      " 'V116' 'V117' 'V118' 'V119' 'V120' 'V121' 'V122' 'V123' 'V124' 'V125'\n",
      " 'V126' 'V127' 'V128' 'V129' 'V130' 'V131' 'V132' 'V133' 'V134' 'V135'\n",
      " 'V136' 'V137' 'V138' 'V139' 'V140' 'V141' 'V142' 'V143' 'V144' 'V145'\n",
      " 'V146' 'V147' 'V148' 'V149' 'V150' 'V151' 'V152' 'V153' 'V154' 'V155'\n",
      " 'V156' 'V157' 'V158' 'V159' 'V160' 'V161' 'V162' 'V163' 'V164' 'V165'\n",
      " 'V166' 'V167' 'V168' 'V169' 'V170' 'V171' 'V172' 'V173' 'V174' 'V175'\n",
      " 'V176' 'V177' 'V178' 'V179' 'V180' 'V181' 'V182' 'V183' 'V184' 'V185'\n",
      " 'V186' 'V187' 'V188' 'V189' 'V190' 'V191' 'V192' 'V193' 'V194' 'V195'\n",
      " 'V196' 'V197' 'V198' 'V199' 'V200' 'V201' 'V202' 'V203' 'V204' 'V205'\n",
      " 'V206' 'V207' 'V208' 'V209' 'V210' 'V211' 'V212' 'V213' 'V214' 'V215'\n",
      " 'V216' 'V217' 'V218' 'V219' 'V220' 'V221' 'V222' 'V223' 'V224' 'V225'\n",
      " 'V226' 'V227' 'V228' 'V229' 'V230' 'V231' 'V232' 'V233' 'V234' 'V235'\n",
      " 'V236' 'V237' 'V238' 'V239' 'V240' 'V241' 'V242' 'V243' 'V244' 'V245'\n",
      " 'V246' 'V247' 'V248' 'V249' 'V250' 'V251' 'V252' 'V253' 'V254' 'V255'\n",
      " 'V256' 'V257' 'V258' 'V259' 'V260' 'V261' 'V262' 'V263' 'V264' 'V265'\n",
      " 'V266' 'V267' 'V268' 'V269' 'V270' 'V271' 'V272' 'V273' 'V274' 'V275'\n",
      " 'V276' 'V277' 'V278' 'V279' 'V280' 'V281' 'V282' 'V283' 'V284' 'V285'\n",
      " 'V286' 'V287' 'V288' 'V289' 'V290' 'V291' 'V292' 'V293' 'V294' 'V295'\n",
      " 'V296' 'V297' 'V298' 'V299' 'V300' 'V301' 'V302' 'V303' 'V304' 'V305'\n",
      " 'V306' 'V307' 'V308' 'V309' 'V310' 'V311' 'V312' 'V313' 'V314' 'V315'\n",
      " 'V316' 'V317' 'V318' 'V319' 'V320' 'V321' 'V322' 'V323' 'V324' 'V325'\n",
      " 'V326' 'V327' 'V328' 'V329' 'V330' 'V331' 'V332' 'V333' 'V334' 'V335'\n",
      " 'V336' 'V337' 'V338' 'V339']\n",
      "\n",
      "Looking NaN values and datatypes of columns in the dataframe:\n",
      "--------------------------------------------\n",
      "\n",
      "<class 'pandas.core.frame.DataFrame'>\n",
      "RangeIndex: 506691 entries, 0 to 506690\n",
      "Columns: 393 entries, TransactionID to V339\n",
      "dtypes: float64(376), int64(3), object(14)\n",
      "memory usage: 1.5+ GB\n",
      "None\n",
      "\n"
     ]
    }
   ],
   "source": [
    "df_first_look(test_transaction)"
   ]
  },
  {
   "cell_type": "code",
   "execution_count": 7,
   "metadata": {
    "collapsed": true,
    "jupyter": {
     "outputs_hidden": true
    }
   },
   "outputs": [
    {
     "name": "stdout",
     "output_type": "stream",
     "text": [
      "First 5 rows of dataframe:\n",
      "--------------------------\n",
      "    TransactionID  id-01     id-02  id-03  id-04  id-05  id-06  id-07  id-08  \\\n",
      "0        3663586  -45.0  280290.0    NaN    NaN    0.0    0.0    NaN    NaN   \n",
      "1        3663588    0.0    3579.0    0.0    0.0    0.0    0.0    NaN    NaN   \n",
      "2        3663597   -5.0  185210.0    NaN    NaN    1.0    0.0    NaN    NaN   \n",
      "3        3663601  -45.0  252944.0    0.0    0.0    0.0    0.0    NaN    NaN   \n",
      "4        3663602  -95.0  328680.0    NaN    NaN    7.0  -33.0    NaN    NaN   \n",
      "\n",
      "   id-09  ...                    id-31  id-32     id-33           id-34  \\\n",
      "0    NaN  ...  chrome 67.0 for android    NaN       NaN             NaN   \n",
      "1    0.0  ...  chrome 67.0 for android   24.0  1280x720  match_status:2   \n",
      "2    NaN  ...       ie 11.0 for tablet    NaN       NaN             NaN   \n",
      "3    0.0  ...  chrome 67.0 for android    NaN       NaN             NaN   \n",
      "4    NaN  ...  chrome 67.0 for android    NaN       NaN             NaN   \n",
      "\n",
      "   id-35 id-36 id-37  id-38  DeviceType                   DeviceInfo  \n",
      "0      F     F     T      F      mobile  MYA-L13 Build/HUAWEIMYA-L13  \n",
      "1      T     F     T      T      mobile         LGLS676 Build/MXB48T  \n",
      "2      F     T     T      F     desktop                  Trident/7.0  \n",
      "3      F     F     T      F      mobile  MYA-L13 Build/HUAWEIMYA-L13  \n",
      "4      F     F     T      F      mobile         SM-G9650 Build/R16NW  \n",
      "\n",
      "[5 rows x 41 columns]\n",
      "\n",
      "Last 5 rows of dataframe:\n",
      "--------------------------\n",
      "         TransactionID  id-01     id-02  id-03  id-04  id-05  id-06  id-07  \\\n",
      "141902        4170230  -20.0  473365.0    NaN    NaN    0.0    0.0    NaN   \n",
      "141903        4170233   -5.0  489917.0    0.0    0.0   -4.0  -32.0    NaN   \n",
      "141904        4170234   -5.0  110081.0    NaN    NaN   22.0  -31.0    NaN   \n",
      "141905        4170236  -45.0  266704.0    NaN    NaN   -3.0  -10.0    NaN   \n",
      "141906        4170239  -10.0  692090.0    0.0    0.0    0.0    0.0    NaN   \n",
      "\n",
      "        id-08  id-09  ...                    id-31  id-32     id-33  \\\n",
      "141902    NaN    NaN  ...  chrome 71.0 for android    NaN       NaN   \n",
      "141903    NaN    0.0  ...  chrome 71.0 for android    NaN       NaN   \n",
      "141904    NaN    NaN  ...       mobile safari 10.0   32.0  1334x750   \n",
      "141905    NaN    NaN  ...  chrome 43.0 for android    NaN       NaN   \n",
      "141906    NaN    0.0  ...      samsung browser 8.2    NaN       NaN   \n",
      "\n",
      "                 id-34  id-35 id-36 id-37  id-38  DeviceType  \\\n",
      "141902             NaN      F     F     T      F      mobile   \n",
      "141903             NaN      F     F     T      F      mobile   \n",
      "141904  match_status:2      T     F     F      T      mobile   \n",
      "141905             NaN      F     F     T      F      mobile   \n",
      "141906             NaN      F     F     T      F      mobile   \n",
      "\n",
      "                         DeviceInfo  \n",
      "141902                     SM-J700M  \n",
      "141903                     SM-J320M  \n",
      "141904                   iOS Device  \n",
      "141905  ALE-L23 Build/HuaweiALE-L23  \n",
      "141906                      SAMSUNG  \n",
      "\n",
      "[5 rows x 41 columns]\n",
      "\n",
      "Row count of dataframe:\n",
      "-----------------------\n",
      " 141907 \n",
      "Column count of dataframe:\n",
      "--------------------------\n",
      " 41\n",
      "\n",
      "List of columns in the dataframe:\n",
      "---------------------------------\n",
      " ['TransactionID' 'id-01' 'id-02' 'id-03' 'id-04' 'id-05' 'id-06' 'id-07'\n",
      " 'id-08' 'id-09' 'id-10' 'id-11' 'id-12' 'id-13' 'id-14' 'id-15' 'id-16'\n",
      " 'id-17' 'id-18' 'id-19' 'id-20' 'id-21' 'id-22' 'id-23' 'id-24' 'id-25'\n",
      " 'id-26' 'id-27' 'id-28' 'id-29' 'id-30' 'id-31' 'id-32' 'id-33' 'id-34'\n",
      " 'id-35' 'id-36' 'id-37' 'id-38' 'DeviceType' 'DeviceInfo']\n",
      "\n",
      "Looking NaN values and datatypes of columns in the dataframe:\n",
      "--------------------------------------------\n",
      "\n",
      "<class 'pandas.core.frame.DataFrame'>\n",
      "RangeIndex: 141907 entries, 0 to 141906\n",
      "Data columns (total 41 columns):\n",
      " #   Column         Non-Null Count   Dtype  \n",
      "---  ------         --------------   -----  \n",
      " 0   TransactionID  141907 non-null  int64  \n",
      " 1   id-01          141907 non-null  float64\n",
      " 2   id-02          136976 non-null  float64\n",
      " 3   id-03          66481 non-null   float64\n",
      " 4   id-04          66481 non-null   float64\n",
      " 5   id-05          134750 non-null  float64\n",
      " 6   id-06          134750 non-null  float64\n",
      " 7   id-07          5059 non-null    float64\n",
      " 8   id-08          5059 non-null    float64\n",
      " 9   id-09          74338 non-null   float64\n",
      " 10  id-10          74338 non-null   float64\n",
      " 11  id-11          136778 non-null  float64\n",
      " 12  id-12          141907 non-null  object \n",
      " 13  id-13          130286 non-null  float64\n",
      " 14  id-14          71357 non-null   float64\n",
      " 15  id-15          136977 non-null  object \n",
      " 16  id-16          125747 non-null  object \n",
      " 17  id-17          135966 non-null  float64\n",
      " 18  id-18          50875 non-null   float64\n",
      " 19  id-19          135906 non-null  float64\n",
      " 20  id-20          135633 non-null  float64\n",
      " 21  id-21          5059 non-null    float64\n",
      " 22  id-22          5062 non-null    float64\n",
      " 23  id-23          5062 non-null    object \n",
      " 24  id-24          4740 non-null    float64\n",
      " 25  id-25          5039 non-null    float64\n",
      " 26  id-26          5047 non-null    float64\n",
      " 27  id-27          5062 non-null    object \n",
      " 28  id-28          136778 non-null  object \n",
      " 29  id-29          136778 non-null  object \n",
      " 30  id-30          70659 non-null   object \n",
      " 31  id-31          136625 non-null  object \n",
      " 32  id-32          70671 non-null   float64\n",
      " 33  id-33          70671 non-null   object \n",
      " 34  id-34          72175 non-null   object \n",
      " 35  id-35          136977 non-null  object \n",
      " 36  id-36          136977 non-null  object \n",
      " 37  id-37          136977 non-null  object \n",
      " 38  id-38          136977 non-null  object \n",
      " 39  DeviceType     136931 non-null  object \n",
      " 40  DeviceInfo     115057 non-null  object \n",
      "dtypes: float64(23), int64(1), object(17)\n",
      "memory usage: 44.4+ MB\n",
      "None\n",
      "\n"
     ]
    }
   ],
   "source": [
    "df_first_look(test_identity)"
   ]
  },
  {
   "cell_type": "markdown",
   "metadata": {},
   "source": [
    "* Data sets contain Float, integer and object types of data.\n",
    "* All data sets contain null/missing values. "
   ]
  },
  {
   "cell_type": "code",
   "execution_count": 8,
   "metadata": {},
   "outputs": [
    {
     "name": "stdout",
     "output_type": "stream",
     "text": [
      "144233\n",
      "141907\n"
     ]
    }
   ],
   "source": [
    "# To see, how much TransactionIDs in train_transaction have an associated train_identity.\n",
    "print(\n",
    "    np.sum(\n",
    "        train_transaction[\"TransactionID\"].isin(\n",
    "            train_identity[\"TransactionID\"].unique()\n",
    "        )\n",
    "    )\n",
    ")\n",
    "# To see, how much TransactionIDs in test_transaction have an associated test_identity.\n",
    "print(\n",
    "    np.sum(\n",
    "        test_transaction[\"TransactionID\"].isin(test_identity[\"TransactionID\"].unique())\n",
    "    )\n",
    ")"
   ]
  },
  {
   "cell_type": "markdown",
   "metadata": {},
   "source": [
    "* 24.4% of TransactionIDs in train have an associated train_identity.\n",
    "* 28.0% of TransactionIDs in test have an associated test_identity."
   ]
  },
  {
   "cell_type": "markdown",
   "metadata": {},
   "source": [
    "## Data Data Wrangling:\n",
    "### To Check Missing Values:"
   ]
  },
  {
   "cell_type": "markdown",
   "metadata": {},
   "source": [
    "* I called `missing_data_finder` from `util_data_cleaning.py`. \n",
    "* This function returns;\n",
    "    * Finding missing values and showing these percentages in the columns of the dataframe. "
   ]
  },
  {
   "cell_type": "code",
   "execution_count": 9,
   "metadata": {},
   "outputs": [
    {
     "data": {
      "text/html": [
       "<div>\n",
       "<style scoped>\n",
       "    .dataframe tbody tr th:only-of-type {\n",
       "        vertical-align: middle;\n",
       "    }\n",
       "\n",
       "    .dataframe tbody tr th {\n",
       "        vertical-align: top;\n",
       "    }\n",
       "\n",
       "    .dataframe thead th {\n",
       "        text-align: right;\n",
       "    }\n",
       "</style>\n",
       "<table border=\"1\" class=\"dataframe\">\n",
       "  <thead>\n",
       "    <tr style=\"text-align: right;\">\n",
       "      <th></th>\n",
       "      <th>column_name</th>\n",
       "      <th>missing_row_count</th>\n",
       "      <th>missing_row_percent</th>\n",
       "    </tr>\n",
       "  </thead>\n",
       "  <tbody>\n",
       "    <tr>\n",
       "      <th>14</th>\n",
       "      <td>dist2</td>\n",
       "      <td>552913</td>\n",
       "      <td>0.9363</td>\n",
       "    </tr>\n",
       "    <tr>\n",
       "      <th>37</th>\n",
       "      <td>D7</td>\n",
       "      <td>551623</td>\n",
       "      <td>0.9341</td>\n",
       "    </tr>\n",
       "    <tr>\n",
       "      <th>43</th>\n",
       "      <td>D13</td>\n",
       "      <td>528588</td>\n",
       "      <td>0.8951</td>\n",
       "    </tr>\n",
       "  </tbody>\n",
       "</table>\n",
       "</div>"
      ],
      "text/plain": [
       "   column_name  missing_row_count  missing_row_percent\n",
       "14       dist2             552913               0.9363\n",
       "37          D7             551623               0.9341\n",
       "43         D13             528588               0.8951"
      ]
     },
     "execution_count": 9,
     "metadata": {},
     "output_type": "execute_result"
    }
   ],
   "source": [
    "missing_data_finder(train_transaction).head(3)"
   ]
  },
  {
   "cell_type": "code",
   "execution_count": 10,
   "metadata": {},
   "outputs": [
    {
     "data": {
      "text/html": [
       "<div>\n",
       "<style scoped>\n",
       "    .dataframe tbody tr th:only-of-type {\n",
       "        vertical-align: middle;\n",
       "    }\n",
       "\n",
       "    .dataframe tbody tr th {\n",
       "        vertical-align: top;\n",
       "    }\n",
       "\n",
       "    .dataframe thead th {\n",
       "        text-align: right;\n",
       "    }\n",
       "</style>\n",
       "<table border=\"1\" class=\"dataframe\">\n",
       "  <thead>\n",
       "    <tr style=\"text-align: right;\">\n",
       "      <th></th>\n",
       "      <th>column_name</th>\n",
       "      <th>missing_row_count</th>\n",
       "      <th>missing_row_percent</th>\n",
       "    </tr>\n",
       "  </thead>\n",
       "  <tbody>\n",
       "    <tr>\n",
       "      <th>24</th>\n",
       "      <td>id_24</td>\n",
       "      <td>139486</td>\n",
       "      <td>0.9671</td>\n",
       "    </tr>\n",
       "    <tr>\n",
       "      <th>25</th>\n",
       "      <td>id_25</td>\n",
       "      <td>139101</td>\n",
       "      <td>0.9644</td>\n",
       "    </tr>\n",
       "    <tr>\n",
       "      <th>7</th>\n",
       "      <td>id_07</td>\n",
       "      <td>139078</td>\n",
       "      <td>0.9643</td>\n",
       "    </tr>\n",
       "  </tbody>\n",
       "</table>\n",
       "</div>"
      ],
      "text/plain": [
       "   column_name  missing_row_count  missing_row_percent\n",
       "24       id_24             139486               0.9671\n",
       "25       id_25             139101               0.9644\n",
       "7        id_07             139078               0.9643"
      ]
     },
     "execution_count": 10,
     "metadata": {},
     "output_type": "execute_result"
    }
   ],
   "source": [
    "missing_data_finder(train_identity).head(3)"
   ]
  },
  {
   "cell_type": "code",
   "execution_count": 11,
   "metadata": {},
   "outputs": [
    {
     "data": {
      "text/html": [
       "<div>\n",
       "<style scoped>\n",
       "    .dataframe tbody tr th:only-of-type {\n",
       "        vertical-align: middle;\n",
       "    }\n",
       "\n",
       "    .dataframe tbody tr th {\n",
       "        vertical-align: top;\n",
       "    }\n",
       "\n",
       "    .dataframe thead th {\n",
       "        text-align: right;\n",
       "    }\n",
       "</style>\n",
       "<table border=\"1\" class=\"dataframe\">\n",
       "  <thead>\n",
       "    <tr style=\"text-align: right;\">\n",
       "      <th></th>\n",
       "      <th>column_name</th>\n",
       "      <th>missing_row_count</th>\n",
       "      <th>missing_row_percent</th>\n",
       "    </tr>\n",
       "  </thead>\n",
       "  <tbody>\n",
       "    <tr>\n",
       "      <th>13</th>\n",
       "      <td>dist2</td>\n",
       "      <td>470255</td>\n",
       "      <td>0.9281</td>\n",
       "    </tr>\n",
       "    <tr>\n",
       "      <th>36</th>\n",
       "      <td>D7</td>\n",
       "      <td>446558</td>\n",
       "      <td>0.8813</td>\n",
       "    </tr>\n",
       "    <tr>\n",
       "      <th>41</th>\n",
       "      <td>D12</td>\n",
       "      <td>437437</td>\n",
       "      <td>0.8633</td>\n",
       "    </tr>\n",
       "  </tbody>\n",
       "</table>\n",
       "</div>"
      ],
      "text/plain": [
       "   column_name  missing_row_count  missing_row_percent\n",
       "13       dist2             470255               0.9281\n",
       "36          D7             446558               0.8813\n",
       "41         D12             437437               0.8633"
      ]
     },
     "execution_count": 11,
     "metadata": {},
     "output_type": "execute_result"
    }
   ],
   "source": [
    "missing_data_finder(test_transaction).head(3)"
   ]
  },
  {
   "cell_type": "code",
   "execution_count": 12,
   "metadata": {},
   "outputs": [
    {
     "data": {
      "text/html": [
       "<div>\n",
       "<style scoped>\n",
       "    .dataframe tbody tr th:only-of-type {\n",
       "        vertical-align: middle;\n",
       "    }\n",
       "\n",
       "    .dataframe tbody tr th {\n",
       "        vertical-align: top;\n",
       "    }\n",
       "\n",
       "    .dataframe thead th {\n",
       "        text-align: right;\n",
       "    }\n",
       "</style>\n",
       "<table border=\"1\" class=\"dataframe\">\n",
       "  <thead>\n",
       "    <tr style=\"text-align: right;\">\n",
       "      <th></th>\n",
       "      <th>column_name</th>\n",
       "      <th>missing_row_count</th>\n",
       "      <th>missing_row_percent</th>\n",
       "    </tr>\n",
       "  </thead>\n",
       "  <tbody>\n",
       "    <tr>\n",
       "      <th>24</th>\n",
       "      <td>id-24</td>\n",
       "      <td>137167</td>\n",
       "      <td>0.9666</td>\n",
       "    </tr>\n",
       "    <tr>\n",
       "      <th>25</th>\n",
       "      <td>id-25</td>\n",
       "      <td>136868</td>\n",
       "      <td>0.9645</td>\n",
       "    </tr>\n",
       "    <tr>\n",
       "      <th>26</th>\n",
       "      <td>id-26</td>\n",
       "      <td>136860</td>\n",
       "      <td>0.9644</td>\n",
       "    </tr>\n",
       "  </tbody>\n",
       "</table>\n",
       "</div>"
      ],
      "text/plain": [
       "   column_name  missing_row_count  missing_row_percent\n",
       "24       id-24             137167               0.9666\n",
       "25       id-25             136868               0.9645\n",
       "26       id-26             136860               0.9644"
      ]
     },
     "execution_count": 12,
     "metadata": {},
     "output_type": "execute_result"
    }
   ],
   "source": [
    "missing_data_finder(test_identity).head(3)"
   ]
  },
  {
   "cell_type": "markdown",
   "metadata": {},
   "source": [
    "##### Observations: \n",
    "* We found NaN values of columns in dataframes. \n",
    "* 374 columns of total columns (394) of train_transaction dataframe have NaN values. \n",
    "* 38 columns of total columns (41) of train_identity dataframe have NaN values. \n",
    "* 345 columns of total columns (393) of test_transaction dataframe have NaN values. \n",
    "* 38 columns of total columns (41) of train_identity dataframe have NaN values. "
   ]
  },
  {
   "cell_type": "markdown",
   "metadata": {},
   "source": [
    "### Changing Categorical Column's Values: \n",
    "### IsFraud Column:"
   ]
  },
  {
   "cell_type": "markdown",
   "metadata": {},
   "source": [
    "* IsFraud column has two categories: 0 and 1. Sinse this column is coded numericaly it is not easy to understand which value equal to which label. So I'm coding new values: `1 = \"Fraud\", 0 = \"Non-Fraud\"`. "
   ]
  },
  {
   "cell_type": "code",
   "execution_count": 13,
   "metadata": {},
   "outputs": [],
   "source": [
    "train_transaction[\"isFraud_\"] = np.where(\n",
    "    train_transaction[\"isFraud\"] == 1, \"Fraud\", \"Non-Fraud\"\n",
    ")"
   ]
  },
  {
   "cell_type": "code",
   "execution_count": 14,
   "metadata": {},
   "outputs": [
    {
     "data": {
      "text/plain": [
       "Non-Fraud    569877\n",
       "Fraud         20663\n",
       "Name: isFraud_, dtype: int64"
      ]
     },
     "execution_count": 14,
     "metadata": {},
     "output_type": "execute_result"
    }
   ],
   "source": [
    "train_transaction[\"isFraud_\"].value_counts()"
   ]
  },
  {
   "cell_type": "markdown",
   "metadata": {},
   "source": [
    "* I called `countplot_viz` from `util_reporting.py`\n",
    "* This function does;\n",
    "    * This function visualizes a countplot."
   ]
  },
  {
   "cell_type": "code",
   "execution_count": 15,
   "metadata": {},
   "outputs": [
    {
     "data": {
      "image/png": "[encoded data removed]",
      "text/plain": [
       "<Figure size 864x360 with 1 Axes>"
      ]
     },
     "metadata": {
      "needs_background": "light"
     },
     "output_type": "display_data"
    }
   ],
   "source": [
    "countplot_viz(\n",
    "    train_transaction,\n",
    "    \"isFraud_\",\n",
    "    \"Fraud & Non-Fraud\",\n",
    "    \"Count\",\n",
    "    \"Count of Categories\",\n",
    "    palette=\"rocket_r\",\n",
    ")"
   ]
  },
  {
   "cell_type": "markdown",
   "metadata": {},
   "source": [
    "##### How to Read The Graph: \n",
    "* This graph shows count of fraud or non-fraud transactions. \n",
    "* x column shows situations, y column shows counts of situations."
   ]
  },
  {
   "cell_type": "markdown",
   "metadata": {},
   "source": [
    "##### Observation:\n",
    "* We changed categorical names as Fraud and Non-Fraud.\n",
    "* Count of Non-Fraud transaction more than count of Fraud transaction. "
   ]
  },
  {
   "cell_type": "markdown",
   "metadata": {},
   "source": [
    "## Understanding Variables:\n",
    "### Categorical Features - Transaction:"
   ]
  },
  {
   "cell_type": "markdown",
   "metadata": {},
   "source": [
    "### ProductCD:\n",
    "* `Definition:` ProductCD is product code that the product for each transaction. In the data description post, they state that ProductCD is a service and not a physical product.  \n",
    "* `Categories & Labels:` C, W, R, H, S"
   ]
  },
  {
   "cell_type": "code",
   "execution_count": 16,
   "metadata": {},
   "outputs": [
    {
     "data": {
      "text/plain": [
       "W    439670\n",
       "C     68519\n",
       "R     37699\n",
       "H     33024\n",
       "S     11628\n",
       "Name: ProductCD, dtype: int64"
      ]
     },
     "execution_count": 16,
     "metadata": {},
     "output_type": "execute_result"
    }
   ],
   "source": [
    "train_transaction.ProductCD.value_counts()"
   ]
  },
  {
   "cell_type": "code",
   "execution_count": 17,
   "metadata": {},
   "outputs": [
    {
     "data": {
      "image/png": "[encoded data removed]",
      "text/plain": [
       "<Figure size 864x360 with 1 Axes>"
      ]
     },
     "metadata": {
      "needs_background": "light"
     },
     "output_type": "display_data"
    }
   ],
   "source": [
    "countplot_viz(\n",
    "    train_transaction,\n",
    "    \"ProductCD\",\n",
    "    \"Product Code of Transactions\",\n",
    "    \"Count\",\n",
    "    \"Count of Categories\",\n",
    "    palette=\"rocket_r\",\n",
    ")"
   ]
  },
  {
   "cell_type": "markdown",
   "metadata": {},
   "source": [
    "##### How to Read The Graph: \n",
    "* This graph shows count of ProductCDs. \n",
    "* x column shows categories, y column shows counts of categories."
   ]
  },
  {
   "cell_type": "markdown",
   "metadata": {},
   "source": [
    "##### Observation:\n",
    "* Count of product code W more than count of other codes. "
   ]
  },
  {
   "cell_type": "markdown",
   "metadata": {},
   "source": [
    "### Card1-Card6:\n",
    "* `Definition:` card1 - card6: Payment card information, such as card type, card category, issue bank, country, etc.  \n",
    "* `Definition od Card4:` Card4 shows card distributer types. \n",
    "    * `Categories & Labels:` Visa, Mastercard, American express, Discover \n",
    "* `Definition od Card6:` Card6 shows card types. \n",
    "    * `Categories & Labels:` Debit, Credit, Debit or Credit , Charge card      "
   ]
  },
  {
   "cell_type": "code",
   "execution_count": 18,
   "metadata": {},
   "outputs": [
    {
     "data": {
      "text/html": [
       "<div>\n",
       "<style scoped>\n",
       "    .dataframe tbody tr th:only-of-type {\n",
       "        vertical-align: middle;\n",
       "    }\n",
       "\n",
       "    .dataframe tbody tr th {\n",
       "        vertical-align: top;\n",
       "    }\n",
       "\n",
       "    .dataframe thead th {\n",
       "        text-align: right;\n",
       "    }\n",
       "</style>\n",
       "<table border=\"1\" class=\"dataframe\">\n",
       "  <thead>\n",
       "    <tr style=\"text-align: right;\">\n",
       "      <th></th>\n",
       "      <th>card1</th>\n",
       "      <th>card2</th>\n",
       "      <th>card3</th>\n",
       "      <th>card4</th>\n",
       "      <th>card5</th>\n",
       "      <th>card6</th>\n",
       "    </tr>\n",
       "  </thead>\n",
       "  <tbody>\n",
       "    <tr>\n",
       "      <th>0</th>\n",
       "      <td>13926</td>\n",
       "      <td>NaN</td>\n",
       "      <td>150.0</td>\n",
       "      <td>discover</td>\n",
       "      <td>142.0</td>\n",
       "      <td>credit</td>\n",
       "    </tr>\n",
       "    <tr>\n",
       "      <th>1</th>\n",
       "      <td>2755</td>\n",
       "      <td>404.0</td>\n",
       "      <td>150.0</td>\n",
       "      <td>mastercard</td>\n",
       "      <td>102.0</td>\n",
       "      <td>credit</td>\n",
       "    </tr>\n",
       "    <tr>\n",
       "      <th>2</th>\n",
       "      <td>4663</td>\n",
       "      <td>490.0</td>\n",
       "      <td>150.0</td>\n",
       "      <td>visa</td>\n",
       "      <td>166.0</td>\n",
       "      <td>debit</td>\n",
       "    </tr>\n",
       "  </tbody>\n",
       "</table>\n",
       "</div>"
      ],
      "text/plain": [
       "   card1  card2  card3       card4  card5   card6\n",
       "0  13926    NaN  150.0    discover  142.0  credit\n",
       "1   2755  404.0  150.0  mastercard  102.0  credit\n",
       "2   4663  490.0  150.0        visa  166.0   debit"
      ]
     },
     "execution_count": 18,
     "metadata": {},
     "output_type": "execute_result"
    }
   ],
   "source": [
    "card_cols = [c for c in train_transaction.columns if \"card\" in c]\n",
    "train_transaction[card_cols].head(3)"
   ]
  },
  {
   "cell_type": "markdown",
   "metadata": {},
   "source": [
    "* We can describe only card4 and card6 of all these columns. "
   ]
  },
  {
   "cell_type": "code",
   "execution_count": 19,
   "metadata": {},
   "outputs": [
    {
     "data": {
      "text/plain": [
       "visa                384767\n",
       "mastercard          189217\n",
       "american express      8328\n",
       "discover              6651\n",
       "Name: card4, dtype: int64"
      ]
     },
     "execution_count": 19,
     "metadata": {},
     "output_type": "execute_result"
    }
   ],
   "source": [
    "train_transaction.card4.value_counts()"
   ]
  },
  {
   "cell_type": "code",
   "execution_count": 20,
   "metadata": {},
   "outputs": [
    {
     "data": {
      "text/plain": [
       "debit              439938\n",
       "credit             148986\n",
       "debit or credit        30\n",
       "charge card            15\n",
       "Name: card6, dtype: int64"
      ]
     },
     "execution_count": 20,
     "metadata": {},
     "output_type": "execute_result"
    }
   ],
   "source": [
    "train_transaction.card6.value_counts()"
   ]
  },
  {
   "cell_type": "code",
   "execution_count": 21,
   "metadata": {},
   "outputs": [
    {
     "data": {
      "image/png": "[encoded data removed]",
      "text/plain": [
       "<Figure size 864x360 with 1 Axes>"
      ]
     },
     "metadata": {
      "needs_background": "light"
     },
     "output_type": "display_data"
    }
   ],
   "source": [
    "countplot_viz(\n",
    "    train_transaction,\n",
    "    \"card4\",\n",
    "    \"Card Code of Transactions\",\n",
    "    \"Count\",\n",
    "    \"Count of Card Distributer Types\",\n",
    "    palette=\"rocket_r\",\n",
    ")"
   ]
  },
  {
   "cell_type": "markdown",
   "metadata": {},
   "source": [
    "##### How to Read The Graph: \n",
    "* This graph shows count of Card Distributer Types. \n",
    "* x column shows Card Distributers, y column shows counts of Card Distributers."
   ]
  },
  {
   "cell_type": "code",
   "execution_count": 22,
   "metadata": {},
   "outputs": [
    {
     "data": {
      "image/png": "[encoded data removed]",
      "text/plain": [
       "<Figure size 864x360 with 1 Axes>"
      ]
     },
     "metadata": {
      "needs_background": "light"
     },
     "output_type": "display_data"
    }
   ],
   "source": [
    "countplot_viz(\n",
    "    train_transaction,\n",
    "    \"card6\",\n",
    "    \"Card Code of Transactions\",\n",
    "    \"Count\",\n",
    "    \"Count of Card Types\",\n",
    "    palette=\"rocket_r\",\n",
    ")"
   ]
  },
  {
   "cell_type": "markdown",
   "metadata": {},
   "source": [
    "##### How to Read The Graph: \n",
    "* This graph shows count of Card Types. \n",
    "* x column shows card types, y column shows counts of card types."
   ]
  },
  {
   "cell_type": "markdown",
   "metadata": {},
   "source": [
    "##### Observation:\n",
    "* Card4: \n",
    "    * Count of visa card more than count of other card distributers. \n",
    "* Card6: \n",
    "    * Count of debit card more than count of other card types. "
   ]
  },
  {
   "cell_type": "markdown",
   "metadata": {},
   "source": [
    "### addr1 - addr2:\n",
    "* `Definition:` They show address. Both addresses are for purchaser. \n",
    "    * addr1 as billing region\n",
    "    * addr2 as billing country"
   ]
  },
  {
   "cell_type": "code",
   "execution_count": 23,
   "metadata": {},
   "outputs": [
    {
     "data": {
      "image/png": "[encoded data removed]",
      "text/plain": [
       "<Figure size 1080x144 with 1 Axes>"
      ]
     },
     "metadata": {
      "needs_background": "light"
     },
     "output_type": "display_data"
    },
    {
     "data": {
      "image/png": "[encoded data removed]",
      "text/plain": [
       "<Figure size 1080x144 with 1 Axes>"
      ]
     },
     "metadata": {
      "needs_background": "light"
     },
     "output_type": "display_data"
    }
   ],
   "source": [
    "train_transaction[\"addr1\"].plot(\n",
    "    kind=\"hist\",\n",
    "    bins=50,\n",
    "    figsize=(15, 2),\n",
    "    title=\"addr1 distribution\",\n",
    "    color=\"orange\",\n",
    "    logx=True,\n",
    ")\n",
    "plt.show()\n",
    "train_transaction[\"addr2\"].plot(\n",
    "    kind=\"hist\",\n",
    "    bins=50,\n",
    "    figsize=(15, 2),\n",
    "    title=\"addr2 distribution\",\n",
    "    color=\"blue\",\n",
    "    logx=True,\n",
    ")\n",
    "plt.show()"
   ]
  },
  {
   "cell_type": "markdown",
   "metadata": {},
   "source": [
    "##### Observation:\n",
    "* addr1: \n",
    "    *  \n",
    "* addr2: \n",
    "    * "
   ]
  },
  {
   "cell_type": "markdown",
   "metadata": {},
   "source": [
    "### P_emaildomain: \n",
    "* `Definition:` They show purchaser email domain.\n",
    "* I will group all e-mail domains by the respective enterprises.\n",
    "* Also, I won't include less than 1000 entries."
   ]
  },
  {
   "cell_type": "markdown",
   "metadata": {},
   "source": [
    "### alttaki kodun daha iyisini yaz"
   ]
  },
  {
   "cell_type": "code",
   "execution_count": 24,
   "metadata": {},
   "outputs": [],
   "source": [
    "P_email_df = pd.DataFrame(train_transaction.P_emaildomain.value_counts())\n",
    "P_email_df = P_email_df.rename_axis(\"email\").reset_index()\n",
    "P_email_df = P_email_df[P_email_df[\"P_emaildomain\"] > 1000]\n",
    "x = train_transaction[\n",
    "    train_transaction[\"P_emaildomain\"].isin(list(P_email_df[\"email\"]))\n",
    "]"
   ]
  },
  {
   "cell_type": "code",
   "execution_count": 25,
   "metadata": {},
   "outputs": [
    {
     "data": {
      "image/png": "[encoded data removed]",
      "text/plain": [
       "<Figure size 864x360 with 1 Axes>"
      ]
     },
     "metadata": {
      "needs_background": "light"
     },
     "output_type": "display_data"
    }
   ],
   "source": [
    "countplot_viz(\n",
    "    data=x,\n",
    "    xcolumn=\"P_emaildomain\",\n",
    "    xlabel=\"Email Domains\",\n",
    "    ylabel=\"Count\",\n",
    "    title=\"Count of Email Domain Transactions\",\n",
    "    palette=\"rocket\",\n",
    "    fontsize_text=9,\n",
    ")"
   ]
  },
  {
   "cell_type": "markdown",
   "metadata": {},
   "source": [
    "##### How to Read The Graph: \n",
    "* This graph shows count of transaction's email domains. \n",
    "* x column shows email domains, y column shows counts of email domain transactions."
   ]
  },
  {
   "cell_type": "markdown",
   "metadata": {},
   "source": [
    "##### Observation:\n",
    "* Transactions that were done with Gmail and outlook have most count. "
   ]
  },
  {
   "cell_type": "markdown",
   "metadata": {},
   "source": [
    "### R_emaildomain: \n",
    "* `Definition:` They show recipient email domain. Certain transactions don't need recipient, so R_emaildomain is null.\n",
    "* I will group all e-mail domains by the respective enterprises.\n",
    "* Also, I won't include less than 1000 entries."
   ]
  },
  {
   "cell_type": "code",
   "execution_count": 26,
   "metadata": {},
   "outputs": [],
   "source": [
    "R_email_df = pd.DataFrame(train_transaction.R_emaildomain.value_counts())\n",
    "R_email_df = R_email_df.rename_axis(\"email\").reset_index()\n",
    "R_email_df = R_email_df[R_email_df[\"R_emaildomain\"] > 1000]\n",
    "y = train_transaction[\n",
    "    train_transaction[\"R_emaildomain\"].isin(list(R_email_df[\"email\"]))\n",
    "]"
   ]
  },
  {
   "cell_type": "code",
   "execution_count": 27,
   "metadata": {},
   "outputs": [
    {
     "data": {
      "image/png": "[encoded data removed]",
      "text/plain": [
       "<Figure size 864x360 with 1 Axes>"
      ]
     },
     "metadata": {
      "needs_background": "light"
     },
     "output_type": "display_data"
    }
   ],
   "source": [
    "countplot_viz(\n",
    "    data=y,\n",
    "    xcolumn=\"R_emaildomain\",\n",
    "    xlabel=\"Email Domains\",\n",
    "    ylabel=\"Count\",\n",
    "    title=\"Count of Email Domain Transactions\",\n",
    "    palette=\"rocket\",\n",
    ")"
   ]
  },
  {
   "cell_type": "markdown",
   "metadata": {},
   "source": [
    "##### How to Read The Graph: \n",
    "* This graph shows count of transaction's email domains. \n",
    "* x column shows email domains, y column shows counts of email domain transactions."
   ]
  },
  {
   "cell_type": "markdown",
   "metadata": {},
   "source": [
    "##### Observation:\n",
    "* Transactions that were done with Gmail and hotmail have most count. \n",
    "* At here most second transaction count belong hotmail but at P_emaildomain most second transaction count belonged outlook. "
   ]
  },
  {
   "cell_type": "markdown",
   "metadata": {},
   "source": [
    "### M1- M9:\n",
    "* `Definition:` They show match, such as names on card and address, etc.\n",
    "* `Categories & Labels:` T = True, F= False, NaN values\n",
    "* `Categories & Labels for M4:` M0, M1, M2"
   ]
  },
  {
   "cell_type": "code",
   "execution_count": 28,
   "metadata": {},
   "outputs": [
    {
     "data": {
      "text/html": [
       "<div>\n",
       "<style scoped>\n",
       "    .dataframe tbody tr th:only-of-type {\n",
       "        vertical-align: middle;\n",
       "    }\n",
       "\n",
       "    .dataframe tbody tr th {\n",
       "        vertical-align: top;\n",
       "    }\n",
       "\n",
       "    .dataframe thead th {\n",
       "        text-align: right;\n",
       "    }\n",
       "</style>\n",
       "<table border=\"1\" class=\"dataframe\">\n",
       "  <thead>\n",
       "    <tr style=\"text-align: right;\">\n",
       "      <th></th>\n",
       "      <th>M1</th>\n",
       "      <th>M2</th>\n",
       "      <th>M3</th>\n",
       "      <th>M4</th>\n",
       "      <th>M5</th>\n",
       "      <th>M6</th>\n",
       "      <th>M7</th>\n",
       "      <th>M8</th>\n",
       "      <th>M9</th>\n",
       "    </tr>\n",
       "  </thead>\n",
       "  <tbody>\n",
       "    <tr>\n",
       "      <th>0</th>\n",
       "      <td>T</td>\n",
       "      <td>T</td>\n",
       "      <td>T</td>\n",
       "      <td>M2</td>\n",
       "      <td>F</td>\n",
       "      <td>T</td>\n",
       "      <td>NaN</td>\n",
       "      <td>NaN</td>\n",
       "      <td>NaN</td>\n",
       "    </tr>\n",
       "    <tr>\n",
       "      <th>1</th>\n",
       "      <td>NaN</td>\n",
       "      <td>NaN</td>\n",
       "      <td>NaN</td>\n",
       "      <td>M0</td>\n",
       "      <td>T</td>\n",
       "      <td>T</td>\n",
       "      <td>NaN</td>\n",
       "      <td>NaN</td>\n",
       "      <td>NaN</td>\n",
       "    </tr>\n",
       "    <tr>\n",
       "      <th>2</th>\n",
       "      <td>T</td>\n",
       "      <td>T</td>\n",
       "      <td>T</td>\n",
       "      <td>M0</td>\n",
       "      <td>F</td>\n",
       "      <td>F</td>\n",
       "      <td>F</td>\n",
       "      <td>F</td>\n",
       "      <td>F</td>\n",
       "    </tr>\n",
       "  </tbody>\n",
       "</table>\n",
       "</div>"
      ],
      "text/plain": [
       "    M1   M2   M3  M4 M5 M6   M7   M8   M9\n",
       "0    T    T    T  M2  F  T  NaN  NaN  NaN\n",
       "1  NaN  NaN  NaN  M0  T  T  NaN  NaN  NaN\n",
       "2    T    T    T  M0  F  F    F    F    F"
      ]
     },
     "execution_count": 28,
     "metadata": {},
     "output_type": "execute_result"
    }
   ],
   "source": [
    "M_cols = [m for m in train_transaction.columns if \"M\" in m]\n",
    "train_transaction[M_cols].head(3)"
   ]
  },
  {
   "cell_type": "code",
   "execution_count": 29,
   "metadata": {},
   "outputs": [
    {
     "data": {
      "text/plain": [
       "M0    196405\n",
       "M2     59865\n",
       "M1     52826\n",
       "Name: M4, dtype: int64"
      ]
     },
     "execution_count": 29,
     "metadata": {},
     "output_type": "execute_result"
    }
   ],
   "source": [
    "train_transaction.M4.value_counts()"
   ]
  },
  {
   "cell_type": "markdown",
   "metadata": {},
   "source": [
    "for col in [\"M1\", \"M2\", \"M3\", \"M4\", \"M5\", \"M6\", \"M7\", \"M8\", \"M9\"]:\n",
    "    countplot_viz(\n",
    "        train_transaction,\n",
    "        col,\n",
    "        col,\n",
    "        \"Count\",\n",
    "        \"Count of M\",\n",
    "        palette=\"rocket\",\n",
    "    )"
   ]
  },
  {
   "cell_type": "markdown",
   "metadata": {},
   "source": [
    "##### How to Read The Graph: \n",
    "* These graphs show count of Ms. \n",
    "* x column shows M situations, y column shows counts of M situations."
   ]
  },
  {
   "cell_type": "markdown",
   "metadata": {},
   "source": [
    "##### Observation:\n",
    "* "
   ]
  },
  {
   "cell_type": "markdown",
   "metadata": {},
   "source": [
    "### Numerical Features - Transaction:\n",
    "### TransactionAmt:"
   ]
  },
  {
   "cell_type": "markdown",
   "metadata": {},
   "source": [
    "* `Definition:` TransactionAmt shows transaction payment amount in USD"
   ]
  },
  {
   "cell_type": "markdown",
   "metadata": {},
   "source": [
    "* I called `df_descriptive_statistics` from `util_reporting.py`.\n",
    "* This function does;\n",
    "    * Gets a Python Pandas dataframe and list of columns to visualize descriptive statistics about those columns."
   ]
  },
  {
   "cell_type": "code",
   "execution_count": 30,
   "metadata": {},
   "outputs": [
    {
     "name": "stdout",
     "output_type": "stream",
     "text": [
      "Descriptive Statisctics for column:\n",
      "--------------------------\n",
      "        TransactionAmt\n",
      "count   590540.000000\n",
      "mean       135.027176\n",
      "std        239.162522\n",
      "min          0.251000\n",
      "25%         43.321000\n",
      "50%         68.769000\n",
      "75%        125.000000\n",
      "max      31937.391000\n",
      "\n",
      "Mode values for column:\n",
      "--------------------------\n",
      "    TransactionAmt\n",
      "0            59.0\n",
      "\n"
     ]
    }
   ],
   "source": [
    "list_of_column_descriptive = [\"TransactionAmt\"]\n",
    "df_descriptive_statistics(train_transaction, list_of_column_descriptive)"
   ]
  },
  {
   "cell_type": "markdown",
   "metadata": {},
   "source": [
    "* I called `boxplot_viz` from `util_reporting.py`.\n",
    "* This function does;\n",
    "    * This function visualizes a boxplot for a column."
   ]
  },
  {
   "cell_type": "code",
   "execution_count": 31,
   "metadata": {},
   "outputs": [
    {
     "data": {
      "image/png": "[encoded data removed]",
      "text/plain": [
       "<Figure size 648x432 with 1 Axes>"
      ]
     },
     "metadata": {
      "needs_background": "light"
     },
     "output_type": "display_data"
    }
   ],
   "source": [
    "boxplot_viz(\n",
    "    train_transaction,\n",
    "    \"TransactionAmt\",\n",
    "    xlabel=\"TransactionAmt\",\n",
    "    title=\"Boxplot of TransactionAmt\",\n",
    ")"
   ]
  },
  {
   "cell_type": "markdown",
   "metadata": {},
   "source": [
    "##### How to Read The Graph: \n",
    "* This graph shows description statistics of Age column. \n",
    "* `The minimum` (the smallest number in the data set). The minimum is shown at the far left of the chart, at the end of the left “whisker.”\n",
    "* `First quartile`, Q1, is the far left of the box (or the far right of the left whisker).\n",
    "* `The median` is shown as a line in the center of the box.\n",
    "* `Third quartile`, Q3, shown at the far right of the box (at the far left of the right whisker).\n",
    "* `The maximum` (the largest number in the data set), shown at the far right of the box.\n",
    "* Data sets can sometimes contain `outliers` that are suspected to be anomalies (perhaps because of data collection errors or just plain old flukes). If outliers are present, the whisker on the appropriate side is drawn to 1.5 * IQR rather than the data minimum or the data maximum. Small circles or unfilled dots are drawn on the chart to indicate where suspected outliers lie. Filled circles are used for known outliers."
   ]
  },
  {
   "cell_type": "markdown",
   "metadata": {},
   "source": [
    "* I called `calculating_zscore` from `util_feature_engineering.py`.\n",
    "* This function does;\n",
    "    * This function calculating z score for column list. \n",
    "    * Creating new column to show outlier and non-outlier values as categorical. "
   ]
  },
  {
   "cell_type": "code",
   "execution_count": 32,
   "metadata": {},
   "outputs": [],
   "source": [
    "cols = [\"TransactionAmt\"]\n",
    "train_transaction = calculating_zscore(train_transaction, cols)"
   ]
  },
  {
   "cell_type": "code",
   "execution_count": 33,
   "metadata": {},
   "outputs": [
    {
     "data": {
      "text/plain": [
       "non-outlier    580447\n",
       "outlier         10093\n",
       "Name: TransactionAmt_zscore_outlier, dtype: int64"
      ]
     },
     "execution_count": 33,
     "metadata": {},
     "output_type": "execute_result"
    }
   ],
   "source": [
    "# Total outlier and non-outlier count\n",
    "\n",
    "train_transaction[\"TransactionAmt_zscore_outlier\"].value_counts()"
   ]
  },
  {
   "cell_type": "markdown",
   "metadata": {},
   "source": [
    "##### Observation:\n",
    "* Descriptive Statisctics: \n",
    "    * Avg, median and mode are totally different. Because of this situation distribution is right skewed (positive skew). \n",
    "    * Mean value shows avg transaction amount is 135$. \n",
    "* Boxplot Graph and zscore Table:\n",
    "    * Outliers' count is huge at TransactionAMT column. \n",
    "    * We'll use TransactionAmt_zscore_outlier column to see reason of outlier values is fraud or not. "
   ]
  },
  {
   "cell_type": "markdown",
   "metadata": {},
   "source": [
    "### Time Serial Features - Transaction:\n",
    "### TransactionDT:\n",
    "https://www.kaggle.com/c/ieee-fraud-detection/discussion/100400#latest-579480"
   ]
  },
  {
   "cell_type": "markdown",
   "metadata": {},
   "source": [
    "* `Definition:` Timedelta from a given reference datetime (not an actual timestamp)"
   ]
  },
  {
   "cell_type": "markdown",
   "metadata": {},
   "source": [
    "* I called `creating_date_columns` from `util_feature_engineering.py`.\n",
    "* This function does;\n",
    "    * Gets a Python Pandas dataframe and converting time delta date_column to date and creating new columns as date, weekdays, hours and days. "
   ]
  },
  {
   "cell_type": "code",
   "execution_count": 34,
   "metadata": {},
   "outputs": [
    {
     "data": {
      "text/html": [
       "<div>\n",
       "<style scoped>\n",
       "    .dataframe tbody tr th:only-of-type {\n",
       "        vertical-align: middle;\n",
       "    }\n",
       "\n",
       "    .dataframe tbody tr th {\n",
       "        vertical-align: top;\n",
       "    }\n",
       "\n",
       "    .dataframe thead th {\n",
       "        text-align: right;\n",
       "    }\n",
       "</style>\n",
       "<table border=\"1\" class=\"dataframe\">\n",
       "  <thead>\n",
       "    <tr style=\"text-align: right;\">\n",
       "      <th></th>\n",
       "      <th>TransactionID</th>\n",
       "      <th>isFraud</th>\n",
       "      <th>TransactionDT</th>\n",
       "      <th>TransactionAmt</th>\n",
       "      <th>ProductCD</th>\n",
       "      <th>card1</th>\n",
       "      <th>card2</th>\n",
       "      <th>card3</th>\n",
       "      <th>card4</th>\n",
       "      <th>card5</th>\n",
       "      <th>...</th>\n",
       "      <th>V337</th>\n",
       "      <th>V338</th>\n",
       "      <th>V339</th>\n",
       "      <th>isFraud_</th>\n",
       "      <th>TransactionAmt_zscore</th>\n",
       "      <th>TransactionAmt_zscore_outlier</th>\n",
       "      <th>Date</th>\n",
       "      <th>Weekdays</th>\n",
       "      <th>Hours</th>\n",
       "      <th>Days</th>\n",
       "    </tr>\n",
       "  </thead>\n",
       "  <tbody>\n",
       "    <tr>\n",
       "      <th>0</th>\n",
       "      <td>2987000</td>\n",
       "      <td>0</td>\n",
       "      <td>86400</td>\n",
       "      <td>68.5</td>\n",
       "      <td>W</td>\n",
       "      <td>13926</td>\n",
       "      <td>NaN</td>\n",
       "      <td>150.0</td>\n",
       "      <td>discover</td>\n",
       "      <td>142.0</td>\n",
       "      <td>...</td>\n",
       "      <td>NaN</td>\n",
       "      <td>NaN</td>\n",
       "      <td>NaN</td>\n",
       "      <td>Non-Fraud</td>\n",
       "      <td>-0.278167</td>\n",
       "      <td>non-outlier</td>\n",
       "      <td>2017-12-02 00:00:00</td>\n",
       "      <td>5</td>\n",
       "      <td>0</td>\n",
       "      <td>2</td>\n",
       "    </tr>\n",
       "    <tr>\n",
       "      <th>1</th>\n",
       "      <td>2987001</td>\n",
       "      <td>0</td>\n",
       "      <td>86401</td>\n",
       "      <td>29.0</td>\n",
       "      <td>W</td>\n",
       "      <td>2755</td>\n",
       "      <td>404.0</td>\n",
       "      <td>150.0</td>\n",
       "      <td>mastercard</td>\n",
       "      <td>102.0</td>\n",
       "      <td>...</td>\n",
       "      <td>NaN</td>\n",
       "      <td>NaN</td>\n",
       "      <td>NaN</td>\n",
       "      <td>Non-Fraud</td>\n",
       "      <td>-0.443327</td>\n",
       "      <td>non-outlier</td>\n",
       "      <td>2017-12-02 00:00:01</td>\n",
       "      <td>5</td>\n",
       "      <td>0</td>\n",
       "      <td>2</td>\n",
       "    </tr>\n",
       "    <tr>\n",
       "      <th>2</th>\n",
       "      <td>2987002</td>\n",
       "      <td>0</td>\n",
       "      <td>86469</td>\n",
       "      <td>59.0</td>\n",
       "      <td>W</td>\n",
       "      <td>4663</td>\n",
       "      <td>490.0</td>\n",
       "      <td>150.0</td>\n",
       "      <td>visa</td>\n",
       "      <td>166.0</td>\n",
       "      <td>...</td>\n",
       "      <td>NaN</td>\n",
       "      <td>NaN</td>\n",
       "      <td>NaN</td>\n",
       "      <td>Non-Fraud</td>\n",
       "      <td>-0.317889</td>\n",
       "      <td>non-outlier</td>\n",
       "      <td>2017-12-02 00:01:09</td>\n",
       "      <td>5</td>\n",
       "      <td>0</td>\n",
       "      <td>2</td>\n",
       "    </tr>\n",
       "  </tbody>\n",
       "</table>\n",
       "<p>3 rows × 401 columns</p>\n",
       "</div>"
      ],
      "text/plain": [
       "   TransactionID  isFraud  TransactionDT  TransactionAmt ProductCD  card1  \\\n",
       "0        2987000        0          86400            68.5         W  13926   \n",
       "1        2987001        0          86401            29.0         W   2755   \n",
       "2        2987002        0          86469            59.0         W   4663   \n",
       "\n",
       "   card2  card3       card4  card5  ... V337  V338  V339   isFraud_  \\\n",
       "0    NaN  150.0    discover  142.0  ...  NaN   NaN   NaN  Non-Fraud   \n",
       "1  404.0  150.0  mastercard  102.0  ...  NaN   NaN   NaN  Non-Fraud   \n",
       "2  490.0  150.0        visa  166.0  ...  NaN   NaN   NaN  Non-Fraud   \n",
       "\n",
       "   TransactionAmt_zscore TransactionAmt_zscore_outlier                Date  \\\n",
       "0              -0.278167                   non-outlier 2017-12-02 00:00:00   \n",
       "1              -0.443327                   non-outlier 2017-12-02 00:00:01   \n",
       "2              -0.317889                   non-outlier 2017-12-02 00:01:09   \n",
       "\n",
       "   Weekdays  Hours  Days  \n",
       "0         5      0     2  \n",
       "1         5      0     2  \n",
       "2         5      0     2  \n",
       "\n",
       "[3 rows x 401 columns]"
      ]
     },
     "execution_count": 34,
     "metadata": {},
     "output_type": "execute_result"
    }
   ],
   "source": [
    "creating_date_columns(train_transaction, \"TransactionDT\", START_DATE=\"2017-12-01\")\n",
    "train_transaction.head(3)"
   ]
  },
  {
   "cell_type": "markdown",
   "metadata": {},
   "source": [
    "##### Observation:\n",
    "* We converted TransactionDT column. We'll use these columns at \"Bivariate Relationships\". "
   ]
  },
  {
   "cell_type": "markdown",
   "metadata": {},
   "source": [
    "### Understanding Target Variable\n",
    "### isFraud Column\n",
    "* `Definition:` It shows fraud situation of transactions.  \n",
    "* `Categories & Labels:` 0 = Non-Fraud, 1 = Fraud.\n",
    "* I created \"isFraud_\" column for showing the column as categorical names. I'll use it to show bivariate relationships. "
   ]
  },
  {
   "cell_type": "code",
   "execution_count": 35,
   "metadata": {},
   "outputs": [
    {
     "data": {
      "text/plain": [
       "Non-Fraud    569877\n",
       "Fraud         20663\n",
       "Name: isFraud_, dtype: int64"
      ]
     },
     "execution_count": 35,
     "metadata": {},
     "output_type": "execute_result"
    }
   ],
   "source": [
    "train_transaction.isFraud_.value_counts()"
   ]
  },
  {
   "cell_type": "code",
   "execution_count": 36,
   "metadata": {},
   "outputs": [
    {
     "data": {
      "image/png": "[encoded data removed]",
      "text/plain": [
       "<Figure size 864x360 with 1 Axes>"
      ]
     },
     "metadata": {
      "needs_background": "light"
     },
     "output_type": "display_data"
    }
   ],
   "source": [
    "countplot_viz(\n",
    "    train_transaction,\n",
    "    \"isFraud_\",\n",
    "    \"isFraud\",\n",
    "    \"Count\",\n",
    "    \"Count of isFraud\",\n",
    "    palette=\"rocket_r\",\n",
    ")"
   ]
  },
  {
   "cell_type": "markdown",
   "metadata": {},
   "source": [
    "##### Observation:\n",
    "* We have 3.4% of Fraud transactions in the dataset.\n",
    "* 3.4% seems small in all data but it can be change that if the amount percentual is higher or lower than 3.5% of total. We'll see it later."
   ]
  },
  {
   "cell_type": "markdown",
   "metadata": {},
   "source": [
    "## Bivariate Relationships:\n",
    "### ProductCD & isFraud: "
   ]
  },
  {
   "cell_type": "code",
   "execution_count": 37,
   "metadata": {},
   "outputs": [
    {
     "data": {
      "text/html": [
       "<style  type=\"text/css\" >\n",
       "#T_58c57_row0_col0,#T_58c57_row0_col1,#T_58c57_row0_col2,#T_58c57_row0_col3,#T_58c57_row0_col4,#T_58c57_row0_col5{\n",
       "            background-color:  #0b0405;\n",
       "            color:  #f1f1f1;\n",
       "        }#T_58c57_row1_col0{\n",
       "            background-color:  #94dcb5;\n",
       "            color:  #000000;\n",
       "        }#T_58c57_row1_col1{\n",
       "            background-color:  #c6ebd1;\n",
       "            color:  #000000;\n",
       "        }#T_58c57_row1_col2{\n",
       "            background-color:  #caedd4;\n",
       "            color:  #000000;\n",
       "        }#T_58c57_row1_col3{\n",
       "            background-color:  #bee8ca;\n",
       "            color:  #000000;\n",
       "        }#T_58c57_row1_col4{\n",
       "            background-color:  #d4f1dc;\n",
       "            color:  #000000;\n",
       "        }#T_58c57_row1_col5{\n",
       "            background-color:  #ccedd6;\n",
       "            color:  #000000;\n",
       "        }#T_58c57_row2_col0,#T_58c57_row2_col1,#T_58c57_row2_col2,#T_58c57_row2_col3,#T_58c57_row2_col4,#T_58c57_row2_col5{\n",
       "            background-color:  #def5e5;\n",
       "            color:  #000000;\n",
       "        }</style><table id=\"T_58c57_\" ><thead>    <tr>        <th class=\"index_name level0\" >ProductCD</th>        <th class=\"col_heading level0 col0\" >C</th>        <th class=\"col_heading level0 col1\" >H</th>        <th class=\"col_heading level0 col2\" >R</th>        <th class=\"col_heading level0 col3\" >S</th>        <th class=\"col_heading level0 col4\" >W</th>        <th class=\"col_heading level0 col5\" >All</th>    </tr>    <tr>        <th class=\"index_name level0\" >isFraud_</th>        <th class=\"blank\" ></th>        <th class=\"blank\" ></th>        <th class=\"blank\" ></th>        <th class=\"blank\" ></th>        <th class=\"blank\" ></th>        <th class=\"blank\" ></th>    </tr></thead><tbody>\n",
       "                <tr>\n",
       "                        <th id=\"T_58c57_level0_row0\" class=\"row_heading level0 row0\" >Fraud</th>\n",
       "                        <td id=\"T_58c57_row0_col0\" class=\"data row0 col0\" >8008</td>\n",
       "                        <td id=\"T_58c57_row0_col1\" class=\"data row0 col1\" >1574</td>\n",
       "                        <td id=\"T_58c57_row0_col2\" class=\"data row0 col2\" >1426</td>\n",
       "                        <td id=\"T_58c57_row0_col3\" class=\"data row0 col3\" >686</td>\n",
       "                        <td id=\"T_58c57_row0_col4\" class=\"data row0 col4\" >8969</td>\n",
       "                        <td id=\"T_58c57_row0_col5\" class=\"data row0 col5\" >20663</td>\n",
       "            </tr>\n",
       "            <tr>\n",
       "                        <th id=\"T_58c57_level0_row1\" class=\"row_heading level0 row1\" >Non-Fraud</th>\n",
       "                        <td id=\"T_58c57_row1_col0\" class=\"data row1 col0\" >60511</td>\n",
       "                        <td id=\"T_58c57_row1_col1\" class=\"data row1 col1\" >31450</td>\n",
       "                        <td id=\"T_58c57_row1_col2\" class=\"data row1 col2\" >36273</td>\n",
       "                        <td id=\"T_58c57_row1_col3\" class=\"data row1 col3\" >10942</td>\n",
       "                        <td id=\"T_58c57_row1_col4\" class=\"data row1 col4\" >430701</td>\n",
       "                        <td id=\"T_58c57_row1_col5\" class=\"data row1 col5\" >569877</td>\n",
       "            </tr>\n",
       "            <tr>\n",
       "                        <th id=\"T_58c57_level0_row2\" class=\"row_heading level0 row2\" >All</th>\n",
       "                        <td id=\"T_58c57_row2_col0\" class=\"data row2 col0\" >68519</td>\n",
       "                        <td id=\"T_58c57_row2_col1\" class=\"data row2 col1\" >33024</td>\n",
       "                        <td id=\"T_58c57_row2_col2\" class=\"data row2 col2\" >37699</td>\n",
       "                        <td id=\"T_58c57_row2_col3\" class=\"data row2 col3\" >11628</td>\n",
       "                        <td id=\"T_58c57_row2_col4\" class=\"data row2 col4\" >439670</td>\n",
       "                        <td id=\"T_58c57_row2_col5\" class=\"data row2 col5\" >590540</td>\n",
       "            </tr>\n",
       "    </tbody></table>"
      ],
      "text/plain": [
       "<pandas.io.formats.style.Styler at 0x28b22861550>"
      ]
     },
     "execution_count": 37,
     "metadata": {},
     "output_type": "execute_result"
    }
   ],
   "source": [
    "pd.crosstab(\n",
    "    train_transaction.isFraud_, train_transaction.ProductCD, margins=True\n",
    ").style.background_gradient(cmap=\"mako\")"
   ]
  },
  {
   "cell_type": "code",
   "execution_count": 38,
   "metadata": {},
   "outputs": [
    {
     "data": {
      "text/html": [
       "<div>\n",
       "<style scoped>\n",
       "    .dataframe tbody tr th:only-of-type {\n",
       "        vertical-align: middle;\n",
       "    }\n",
       "\n",
       "    .dataframe tbody tr th {\n",
       "        vertical-align: top;\n",
       "    }\n",
       "\n",
       "    .dataframe thead th {\n",
       "        text-align: right;\n",
       "    }\n",
       "</style>\n",
       "<table border=\"1\" class=\"dataframe\">\n",
       "  <thead>\n",
       "    <tr style=\"text-align: right;\">\n",
       "      <th>isFraud</th>\n",
       "      <th>0</th>\n",
       "      <th>1</th>\n",
       "    </tr>\n",
       "    <tr>\n",
       "      <th>ProductCD</th>\n",
       "      <th></th>\n",
       "      <th></th>\n",
       "    </tr>\n",
       "  </thead>\n",
       "  <tbody>\n",
       "    <tr>\n",
       "      <th>C</th>\n",
       "      <td>88.312731</td>\n",
       "      <td>11.687269</td>\n",
       "    </tr>\n",
       "    <tr>\n",
       "      <th>H</th>\n",
       "      <td>95.233769</td>\n",
       "      <td>4.766231</td>\n",
       "    </tr>\n",
       "    <tr>\n",
       "      <th>R</th>\n",
       "      <td>96.217406</td>\n",
       "      <td>3.782594</td>\n",
       "    </tr>\n",
       "    <tr>\n",
       "      <th>S</th>\n",
       "      <td>94.100447</td>\n",
       "      <td>5.899553</td>\n",
       "    </tr>\n",
       "    <tr>\n",
       "      <th>W</th>\n",
       "      <td>97.960061</td>\n",
       "      <td>2.039939</td>\n",
       "    </tr>\n",
       "  </tbody>\n",
       "</table>\n",
       "</div>"
      ],
      "text/plain": [
       "isFraud            0          1\n",
       "ProductCD                      \n",
       "C          88.312731  11.687269\n",
       "H          95.233769   4.766231\n",
       "R          96.217406   3.782594\n",
       "S          94.100447   5.899553\n",
       "W          97.960061   2.039939"
      ]
     },
     "execution_count": 38,
     "metadata": {},
     "output_type": "execute_result"
    }
   ],
   "source": [
    "pd.crosstab(\n",
    "    train_transaction[\"ProductCD\"], train_transaction[\"isFraud\"], normalize=\"index\"\n",
    ") * 100"
   ]
  },
  {
   "cell_type": "code",
   "execution_count": 39,
   "metadata": {},
   "outputs": [
    {
     "data": {
      "image/png": "[encoded data removed]",
      "text/plain": [
       "<Figure size 864x360 with 1 Axes>"
      ]
     },
     "metadata": {
      "needs_background": "light"
     },
     "output_type": "display_data"
    }
   ],
   "source": [
    "countplot_viz(\n",
    "    train_transaction,\n",
    "    \"ProductCD\",\n",
    "    \"ProductCD\",\n",
    "    \"Count\",\n",
    "    \"ProductCD Count by isFraud\",\n",
    "    hue=\"isFraud_\",\n",
    ")"
   ]
  },
  {
   "cell_type": "markdown",
   "metadata": {},
   "source": [
    "##### How to Read The Graph: \n",
    "* This graph shows count of fraud and non-fraud transactions by product codes.  \n",
    "* x column shows product codes, y column shows counts of product codes by isFraud_ column."
   ]
  },
  {
   "cell_type": "markdown",
   "metadata": {},
   "source": [
    "##### Observation:\n",
    "* The most of transaction belong \"W\" product code. \n",
    "* There is no most of diffrences between product codes about fraud transaction. "
   ]
  },
  {
   "cell_type": "code",
   "execution_count": 40,
   "metadata": {},
   "outputs": [
    {
     "data": {
      "image/png": "[encoded data removed]",
      "text/plain": [
       "<Figure size 576x432 with 1 Axes>"
      ]
     },
     "metadata": {
      "needs_background": "light"
     },
     "output_type": "display_data"
    }
   ],
   "source": [
    "g = sns.countplot(x=\"ProductCD\", data=train_transaction)\n",
    "# plt.legend(title='Fraud', loc='upper center', labels=['No', 'Yes'])\n",
    "\n",
    "g.set_title(\"ProductCD Distribution\", fontsize=19)\n",
    "g.set_xlabel(\"ProductCD Name\", fontsize=17)\n",
    "g.set_ylabel(\"Count\", fontsize=17)\n",
    "g.set_ylim(0, 500000)\n",
    "for p in g.patches:\n",
    "    height = p.get_height()\n",
    "    g.text(\n",
    "        p.get_x() + p.get_width() / 2.0,\n",
    "        height + 3,\n",
    "        \"{:1}\".format(height),\n",
    "        ha=\"center\",\n",
    "        fontsize=14,\n",
    "    )"
   ]
  },
  {
   "cell_type": "code",
   "execution_count": null,
   "metadata": {},
   "outputs": [],
   "source": []
  },
  {
   "cell_type": "code",
   "execution_count": 41,
   "metadata": {},
   "outputs": [
    {
     "data": {
      "text/plain": [
       "[<matplotlib.axis.XTick at 0x28bdcaf9c70>,\n",
       " <matplotlib.axis.XTick at 0x28bdcaf9c40>,\n",
       " <matplotlib.axis.XTick at 0x28bdd6e1670>]"
      ]
     },
     "execution_count": 41,
     "metadata": {},
     "output_type": "execute_result"
    },
    {
     "data": {
      "image/png": "[encoded data removed]",
      "text/plain": [
       "<Figure size 1080x360 with 2 Axes>"
      ]
     },
     "metadata": {
      "needs_background": "light"
     },
     "output_type": "display_data"
    }
   ],
   "source": [
    "f, ax = plt.subplots(1, 2, figsize=(15, 5))\n",
    "train_transaction[train_transaction[\"isFraud\"] == 0][\"TransactionAmt\"].apply(\n",
    "    np.log\n",
    ").plot.hist(ax=ax[0], bins=100, color=\"darkorange\")\n",
    "ax[0].set_title(\"NonFraud Amount Distribution\")\n",
    "x1 = list(range(0, 10, 5))\n",
    "ax[0].set_xticks(x1)\n",
    "\n",
    "train_transaction[train_transaction[\"isFraud\"] == 1][\"TransactionAmt\"].apply(\n",
    "    np.log\n",
    ").plot.hist(ax=ax[1], bins=100)\n",
    "ax[1].set_title(\"Fraud Amount Distribution\")\n",
    "x2 = list(range(0, 15, 5))\n",
    "ax[1].set_xticks(x2)"
   ]
  },
  {
   "cell_type": "markdown",
   "metadata": {},
   "source": [
    "##### Observations: \n",
    "* Avg TransactionAmt and median-mode are not closely. Distribution is right skewed (positive skew). The Avg of transaction amount is $135. \n",
    "* There are outliers at TransactionAmt column. \n",
    "* I've taken a log transform in some of these plots to better show the distribution- otherwise the few, very large transactions skew the distribution. Because of the log transfrom, any values between 0 and 1 will appear to be negative.\n",
    "* Fraudulent charges appear to have a higher average transaction amount. "
   ]
  },
  {
   "cell_type": "markdown",
   "metadata": {},
   "source": []
  },
  {
   "cell_type": "code",
   "execution_count": null,
   "metadata": {},
   "outputs": [],
   "source": []
  },
  {
   "cell_type": "code",
   "execution_count": null,
   "metadata": {},
   "outputs": [],
   "source": []
  },
  {
   "cell_type": "code",
   "execution_count": null,
   "metadata": {},
   "outputs": [],
   "source": []
  },
  {
   "cell_type": "code",
   "execution_count": null,
   "metadata": {},
   "outputs": [],
   "source": []
  },
  {
   "cell_type": "code",
   "execution_count": 42,
   "metadata": {},
   "outputs": [
    {
     "ename": "NameError",
     "evalue": "name 'df_transaction' is not defined",
     "output_type": "error",
     "traceback": [
      "\u001b[1;31m---------------------------------------------------------------------------\u001b[0m",
      "\u001b[1;31mNameError\u001b[0m                                 Traceback (most recent call last)",
      "\u001b[1;32m<ipython-input-42-9b45319f8cf8>\u001b[0m in \u001b[0;36m<module>\u001b[1;34m\u001b[0m\n\u001b[1;32m----> 1\u001b[1;33m \u001b[0msns\u001b[0m\u001b[1;33m.\u001b[0m\u001b[0mcountplot\u001b[0m\u001b[1;33m(\u001b[0m\u001b[0mx\u001b[0m\u001b[1;33m=\u001b[0m\u001b[1;34m'isFraud'\u001b[0m\u001b[1;33m,\u001b[0m \u001b[0mdata\u001b[0m\u001b[1;33m=\u001b[0m\u001b[0mdf_transaction\u001b[0m\u001b[1;33m,\u001b[0m \u001b[0mpalette\u001b[0m\u001b[1;33m=\u001b[0m\u001b[1;34m\"mako\"\u001b[0m\u001b[1;33m)\u001b[0m\u001b[1;33m\u001b[0m\u001b[1;33m\u001b[0m\u001b[0m\n\u001b[0m\u001b[0;32m      2\u001b[0m \u001b[0mplt\u001b[0m\u001b[1;33m.\u001b[0m\u001b[0mxlabel\u001b[0m\u001b[1;33m(\u001b[0m\u001b[1;34m\"isFraud\"\u001b[0m\u001b[1;33m,\u001b[0m \u001b[0mfontsize\u001b[0m\u001b[1;33m=\u001b[0m\u001b[1;36m14\u001b[0m\u001b[1;33m)\u001b[0m \u001b[1;31m#seting the xtitle and size\u001b[0m\u001b[1;33m\u001b[0m\u001b[1;33m\u001b[0m\u001b[0m\n\u001b[0;32m      3\u001b[0m \u001b[0mplt\u001b[0m\u001b[1;33m.\u001b[0m\u001b[0mylabel\u001b[0m\u001b[1;33m(\u001b[0m\u001b[1;34m\"Count\"\u001b[0m\u001b[1;33m,\u001b[0m \u001b[0mfontsize\u001b[0m\u001b[1;33m=\u001b[0m\u001b[1;36m14\u001b[0m\u001b[1;33m)\u001b[0m \u001b[1;31m# Seting the ytitle and size\u001b[0m\u001b[1;33m\u001b[0m\u001b[1;33m\u001b[0m\u001b[0m\n\u001b[0;32m      4\u001b[0m \u001b[0mplt\u001b[0m\u001b[1;33m.\u001b[0m\u001b[0mtitle\u001b[0m\u001b[1;33m(\u001b[0m\u001b[1;34m\"Fraud Distribution\"\u001b[0m\u001b[1;33m,\u001b[0m \u001b[0mfontsize\u001b[0m\u001b[1;33m=\u001b[0m\u001b[1;36m15\u001b[0m\u001b[1;33m)\u001b[0m\u001b[1;33m\u001b[0m\u001b[1;33m\u001b[0m\u001b[0m\n\u001b[0;32m      5\u001b[0m \u001b[0mplt\u001b[0m\u001b[1;33m.\u001b[0m\u001b[0mxticks\u001b[0m\u001b[1;33m(\u001b[0m\u001b[0mrotation\u001b[0m\u001b[1;33m=\u001b[0m\u001b[1;36m45\u001b[0m\u001b[1;33m)\u001b[0m\u001b[1;33m\u001b[0m\u001b[1;33m\u001b[0m\u001b[0m\n",
      "\u001b[1;31mNameError\u001b[0m: name 'df_transaction' is not defined"
     ]
    }
   ],
   "source": [
    "sns.countplot(x='isFraud', data=df_transaction, palette=\"mako\")\n",
    "plt.xlabel(\"isFraud\", fontsize=14) #seting the xtitle and size\n",
    "plt.ylabel(\"Count\", fontsize=14) # Seting the ytitle and size\n",
    "plt.title(\"Fraud Distribution\", fontsize=15) \n",
    "plt.xticks(rotation=45)"
   ]
  },
  {
   "cell_type": "code",
   "execution_count": null,
   "metadata": {},
   "outputs": [],
   "source": [
    "df_transaction.isFraud.value_counts()"
   ]
  },
  {
   "cell_type": "markdown",
   "metadata": {},
   "source": [
    "* \"isFraud\" shows fraud and nonfraud transactions that are from 0: nonFraud, 1: Fraud\n",
    "* There are 20663 fraud transaction in all data. \n",
    "* Most of the transactions are non-fraud."
   ]
  },
  {
   "cell_type": "markdown",
   "metadata": {},
   "source": [
    "#### TransactionDT Column"
   ]
  },
  {
   "cell_type": "code",
   "execution_count": null,
   "metadata": {},
   "outputs": [],
   "source": [
    "print('Shape of train : ', train_transaction[['TransactionDT']].shape[0])\n",
    "print('Shape of test : ', test_transaction[['TransactionDT']].shape[0])"
   ]
  },
  {
   "cell_type": "code",
   "execution_count": null,
   "metadata": {},
   "outputs": [],
   "source": [
    "print('Unique value count of train : ', train_transaction[['TransactionDT']].nunique())\n",
    "print('Unique value count of test : ', test_transaction[['TransactionDT']].nunique())"
   ]
  },
  {
   "cell_type": "code",
   "execution_count": null,
   "metadata": {},
   "outputs": [],
   "source": [
    "train_transaction['TransactionDT'].plot(kind='hist',\n",
    "                                        figsize=(15, 5),\n",
    "                                        label='train',\n",
    "                                        bins=50,\n",
    "                                        title='Train vs Test TransactionDT Distribution')\n",
    "test_transaction['TransactionDT'].plot(kind='hist',\n",
    "                                       label='test',\n",
    "                                       bins=50)\n",
    "plt.legend()"
   ]
  },
  {
   "cell_type": "code",
   "execution_count": null,
   "metadata": {},
   "outputs": [],
   "source": []
  },
  {
   "cell_type": "code",
   "execution_count": null,
   "metadata": {},
   "outputs": [],
   "source": []
  },
  {
   "cell_type": "code",
   "execution_count": null,
   "metadata": {},
   "outputs": [],
   "source": []
  },
  {
   "cell_type": "code",
   "execution_count": null,
   "metadata": {},
   "outputs": [],
   "source": []
  },
  {
   "cell_type": "code",
   "execution_count": null,
   "metadata": {},
   "outputs": [],
   "source": []
  },
  {
   "cell_type": "code",
   "execution_count": null,
   "metadata": {},
   "outputs": [],
   "source": []
  }
 ],
 "metadata": {
  "kernelspec": {
   "display_name": "Python 3",
   "language": "python",
   "name": "python3"
  },
  "language_info": {
   "codemirror_mode": {
    "name": "ipython",
    "version": 3
   },
   "file_extension": ".py",
   "mimetype": "text/x-python",
   "name": "python",
   "nbconvert_exporter": "python",
   "pygments_lexer": "ipython3",
   "version": "3.9.1"
  }
 },
 "nbformat": 4,
 "nbformat_minor": 4
}
